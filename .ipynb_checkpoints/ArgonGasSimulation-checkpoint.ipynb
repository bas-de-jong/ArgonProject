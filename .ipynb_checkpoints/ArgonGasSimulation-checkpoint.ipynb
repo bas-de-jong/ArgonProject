{
 "cells": [
  {
   "cell_type": "markdown",
   "metadata": {},
   "source": [
    "<h4>Import required libraries</h4>"
   ]
  },
  {
   "cell_type": "code",
   "execution_count": 1,
   "metadata": {
    "collapsed": true
   },
   "outputs": [],
   "source": [
    "import numpy as np\n",
    "import math\n",
    "import matplotlib.pyplot as plt\n",
    "from numba import jit\n",
    "%matplotlib inline"
   ]
  },
  {
   "cell_type": "markdown",
   "metadata": {},
   "source": [
    "<h3>Initialization</h3>"
   ]
  },
  {
   "cell_type": "markdown",
   "metadata": {},
   "source": [
    "Defines the function that initializes the position of the particles and their momenta.\n",
    "The particles are placed in a fcc lattice and are given momenta that are picked from a maxwell-boltzmann distribution."
   ]
  },
  {
   "cell_type": "code",
   "execution_count": 2,
   "metadata": {
    "collapsed": false
   },
   "outputs": [],
   "source": [
    "@jit\n",
    "def initializeRP(N,M,T,a):\n",
    "    \n",
    "    # Initialize positions, r\n",
    "    r = np.zeros((N,3))\n",
    "    unit_cell = np.array([[0.0, 0.0, 0.0],[0.5*a, 0.5*a, 0.0],[0.5*a, 0.0, 0.5*a],[0.0, 0.5*a, 0.5*a]]) # Position of atoms on the unit cell\n",
    "    \n",
    "    # Place particles on the lattice\n",
    "    n = 0                                             # Number of particles placed so far\n",
    "    for i in range(M):\n",
    "        for j in range(M):\n",
    "            for k in range(M):\n",
    "                for l in range(4):\n",
    "                    if n<N:\n",
    "                        r[n,:] = unit_cell[l,:] + [i*a, j*a, k*a]\n",
    "                        n += 1\n",
    "    \n",
    "    # Initialize momenta of particles, p\n",
    "    p = np.random.normal(0, (kb*T*mass)**(1/2), (N,3))\n",
    "    \n",
    "    # Correct for drift of center of mass\n",
    "    vCM = np.sum(p,0)/(N*mass)                        # Velocity of center of mass\n",
    "    p -= -vCM*mass\n",
    "    \n",
    "    # Rescale the velocity to agree with the temperature\n",
    "    p = p * (((N-1)*3*kb*T)/ (np.sum(p*p)/mass))**(1/2)\n",
    "    \n",
    "    return r, p"
   ]
  },
  {
   "cell_type": "markdown",
   "metadata": {},
   "source": [
    "<h3>Force Calculation</h3>"
   ]
  },
  {
   "cell_type": "markdown",
   "metadata": {},
   "source": [
    "Defines the function that is used to calculate the force each particle caused by the two-particle interactions. The interactions are governed by a Lennard-Jones potential.\n",
    "Additionally the potential energy of the gas is calculated."
   ]
  },
  {
   "cell_type": "code",
   "execution_count": 7,
   "metadata": {
    "collapsed": false
   },
   "outputs": [],
   "source": [
    "@jit\n",
    "def computeForce(r,N,L_box):\n",
    "    force = np.zeros((N,3))\n",
    "    r_cutsqrd = r_cut*r_cut\n",
    "    potential = 0\n",
    "    \n",
    "    for i in range(N-1):\n",
    "        for j in range((i+1),N):\n",
    "            rij_x = r[i,0]-r[j,0]\n",
    "            rij_y = r[i,1]-r[j,1]\n",
    "            rij_z = r[i,2]-r[j,2]\n",
    "            \n",
    "            rij_x -= np.rint(rij_x/L_box)*L_box\n",
    "            rij_y -= np.rint(rij_y/L_box)*L_box\n",
    "            rij_z -= np.rint(rij_z/L_box)*L_box\n",
    "            \n",
    "            r_sqrd = rij_x*rij_x + rij_y*rij_y + rij_z*rij_z\n",
    "            \n",
    "            if (r_sqrd < r_cutsqrd or noCutoff):\n",
    "                F = 12*((1/r_sqrd)**7 -(1/r_sqrd)**4)\n",
    "                potential += (1/r_sqrd)**6 -2*(1/r_sqrd)**3\n",
    "                \n",
    "                force[i,0] += rij_x*F\n",
    "                force[j,0] -= rij_x*F\n",
    "                \n",
    "                force[i,1] += rij_y*F\n",
    "                force[j,1] -= rij_y*F\n",
    "                \n",
    "                force[i,2] += rij_z*F\n",
    "                force[j,2] -= rij_z*F\n",
    "                \n",
    "    return force, potential"
   ]
  },
  {
   "cell_type": "markdown",
   "metadata": {
    "collapsed": false
   },
   "source": [
    "<h3>Simulation</h3>"
   ]
  },
  {
   "cell_type": "markdown",
   "metadata": {},
   "source": [
    "Defines the function that is used to run a simulation."
   ]
  },
  {
   "cell_type": "code",
   "execution_count": 8,
   "metadata": {
    "collapsed": false
   },
   "outputs": [],
   "source": [
    "def simulate(N,M,T,a,L_box,dt,nsteps,energyPlot=True,momentumComp=True,constantT=False):\n",
    "    \n",
    "    E_kin = np.zeros(nsteps)\n",
    "    E_pot = np.zeros(nsteps)\n",
    "    \n",
    "    [r, p] = initializeRP(N,M,T,a)\n",
    "    r0 = r\n",
    "    p0 = p\n",
    "    \n",
    "    force = computeForce(r,N,L_box)[0]\n",
    "    \n",
    "    for i in range(nsteps):\n",
    "        \n",
    "        # Verlet applied to position of particle and first part of momentum\n",
    "        p += (dt/2)*force\n",
    "        r += p*dt\n",
    "        r = r % L_box #Places particles back into box\n",
    "        \n",
    "        # Compute new force\n",
    "        force, E_pot[i] = computeForce(r,N,L_box)\n",
    "        \n",
    "        # Second part of momentum, using Verlet\n",
    "        p += 0.5*force*dt\n",
    "        \n",
    "        # For a gas which is kept at a constant temperature\n",
    "        if constantT:\n",
    "            p = p * (((N-1)*3*kb*T)/ np.sum(p*p))**(1/2)\n",
    "        \n",
    "        E_kin[i] = 0.5*np.sum(p*p)\n",
    "    \n",
    "    if energyPlot:\n",
    "        plt.figure()\n",
    "        plt.plot(range(nsteps),(E_kin+E_pot), label='Total Energy')\n",
    "        plt.plot(range(nsteps),E_pot, label='Potential Energy')\n",
    "        plt.plot(range(nsteps),E_kin, label='Kinetic Energy')\n",
    "        plt.legend(loc='upper right')\n",
    "        plt.show()\n",
    "    \n",
    "    if momentumComp:\n",
    "        print('Initial momentum:', np.sum(p0,0)/N)\n",
    "        print('Final momentum:', np.sum(p,0)/N)\n",
    "        print('Difference in momentum:', np.sum(p0,0)/N-np.sum(p,0)/N )\n",
    "    \n",
    "        \n",
    "    "
   ]
  },
  {
   "cell_type": "markdown",
   "metadata": {},
   "source": [
    "<h1>Several simulations</h1>"
   ]
  },
  {
   "cell_type": "markdown",
   "metadata": {},
   "source": [
    "<h3>Sim 1: Microcanonical ensemble</h3>"
   ]
  },
  {
   "cell_type": "markdown",
   "metadata": {},
   "source": [
    "A simulation of a microcanonical ensemble. The number of particles, the volume, and the energy are kept constant."
   ]
  },
  {
   "cell_type": "markdown",
   "metadata": {},
   "source": [
    "<h4>Constants and initial parameters </h4>"
   ]
  },
  {
   "cell_type": "code",
   "execution_count": 9,
   "metadata": {
    "collapsed": false
   },
   "outputs": [],
   "source": [
    "# Physical parameters in natural units\n",
    "mass = 1          # Mass of an Argon atom\n",
    "sigma = 1         # Position of potential well; U(sigma) = -epsilon\n",
    "epsilon = 1       # Depth of potential well.\n",
    "kb = 1            # Boltzmann constant\n",
    "T = 1             # Temperature. T = (temperature in Kelvin) / 119.8 \n",
    "\n",
    "# Units of time\n",
    "tau = ((mass/epsilon) * sigma**2) ** (1/2) # Unit of time\n",
    "dt = 4e-3 * tau                            # Size of time step ~ 1e-14 s\n",
    "nsteps = 2000                              # Number of timesteps\n",
    "\n",
    "# Cut-off distance or switch\n",
    "r_cut = 3*sigma\n",
    "noCutoff = True\n",
    "\n",
    "#System size\n",
    "N = 256         # Number of particles\n",
    "\n",
    "#Choose a or density:\n",
    "# a:\n",
    "a = 1.27*sigma          # Unit cell size\n",
    "density = 4/(a**3)     # Density, number of atoms / sigma^3\n",
    "# density:\n",
    "\n",
    "\"\"\" density = 1            # Density, number of atoms / sigma^3\n",
    "a = (4/density)**(1/3) # Unit cell size \"\"\"\n",
    "\n",
    "# Number of unit cells\n",
    "M = 1                  # Number of unit cell in one direction\n",
    "while (4*(M**3)) < N:\n",
    "    M += 1\n",
    "L_box = M*a            # Length of sides of box"
   ]
  },
  {
   "cell_type": "code",
   "execution_count": 10,
   "metadata": {
    "collapsed": false
   },
   "outputs": [
    {
     "data": {
      "image/png": "[encoded data removed]",
      "text/plain": [
       "<matplotlib.figure.Figure at 0x95c8748>"
      ]
     },
     "metadata": {},
     "output_type": "display_data"
    },
    {
     "name": "stdout",
     "output_type": "stream",
     "text": [
      "Initial momentum: [ 0.05157935  0.23837047  0.06341961]\n",
      "Final momentum: [ 0.05157935  0.23837047  0.06341961]\n",
      "Difference in momentum: [ 0.  0.  0.]\n"
     ]
    }
   ],
   "source": [
    "simulate(N,M,T,a,L_box,dt,nsteps)"
   ]
  },
  {
   "cell_type": "markdown",
   "metadata": {},
   "source": [
    "The system behaves as expected, for different values of $a$ there is a different ratio between total kinetic and total potential energy as expected. The total energy remains constant as desired and after approximately 200 timesteps the system is in equilibrium.<br>\n",
    "<br>\n",
    "The fluctuations in total energy are on the order of: ...... <br>\n",
    "The fluctuations in temperature behave as $1/\\sqrt{N}$ as predicted by statistical mechanics."
   ]
  },
  {
   "cell_type": "markdown",
   "metadata": {
    "collapsed": false
   },
   "source": [
    "<h3>Sim 2: Canonical Ensemble</h3>"
   ]
  },
  {
   "cell_type": "markdown",
   "metadata": {},
   "source": [
    "A simulation of a canonical ensemble. The number of particles, the volume, and the temperature are kept constant."
   ]
  },
  {
   "cell_type": "markdown",
   "metadata": {},
   "source": [
    "<h4>Constants and initial parameters </h4>"
   ]
  },
  {
   "cell_type": "code",
   "execution_count": 11,
   "metadata": {
    "collapsed": false
   },
   "outputs": [],
   "source": [
    "# Physical parameters in natural units\n",
    "mass = 1          # Mass of an Argon atom\n",
    "sigma = 1         # Position of potential well; U(sigma) = -epsilon\n",
    "epsilon = 1       # Depth of potential well.\n",
    "kb = 1            # Boltzmann constant\n",
    "T = 1             # Temperature. T = (temperature in Kelvin) / 119.8 \n",
    "\n",
    "# Units of time\n",
    "tau = ((mass/epsilon) * sigma**2) ** (1/2) # Unit of time\n",
    "dt = 4e-3 * tau                            # Size of time step ~ 1e-14 s\n",
    "nsteps = 2000                              # Number of timesteps\n",
    "\n",
    "# Cut-off distance or switch\n",
    "r_cut = 3*sigma\n",
    "noCutoff = True\n",
    "\n",
    "#System size\n",
    "N = 256         # Number of particles\n",
    "\n",
    "#Choose a or density:\n",
    "# a:\n",
    "a = 1.27*sigma          # Unit cell size\n",
    "density = 4/(a**3)     # Density, number of atoms / sigma^3\n",
    "# density:\n",
    "\n",
    "\"\"\" density = 1            # Density, number of atoms / sigma^3\n",
    "a = (4/density)**(1/3) # Unit cell size \"\"\"\n",
    "\n",
    "# Number of unit cells\n",
    "M = 1                  # Number of unit cell in one direction\n",
    "while (4*(M**3)) < N:\n",
    "    M += 1\n",
    "L_box = M*a            # Length of sides of box"
   ]
  },
  {
   "cell_type": "code",
   "execution_count": 12,
   "metadata": {
    "collapsed": false
   },
   "outputs": [
    {
     "data": {
      "image/png": "[encoded data removed]",
      "text/plain": [
       "<matplotlib.figure.Figure at 0x97409b0>"
      ]
     },
     "metadata": {},
     "output_type": "display_data"
    },
    {
     "name": "stdout",
     "output_type": "stream",
     "text": [
      "Initial momentum: [ 0.02077043 -0.11907529  0.03601849]\n",
      "Final momentum: [ 0.03801419 -0.21793242  0.06592128]\n",
      "Difference in momentum: [-0.01724376  0.09885713 -0.0299028 ]\n"
     ]
    }
   ],
   "source": [
    "simulate(N,M,T,a,L_box,dt,nsteps,energyPlot=True,momentumComp=True,constantT=True)"
   ]
  },
  {
   "cell_type": "markdown",
   "metadata": {
    "collapsed": true
   },
   "source": [
    "Blabla interesting results..............."
   ]
  },
  {
   "cell_type": "markdown",
   "metadata": {
    "collapsed": false
   },
   "source": [
    "<h3>Sim 3: The correlation function</h3>"
   ]
  },
  {
   "cell_type": "markdown",
   "metadata": {},
   "source": [
    "For this simulation the data needs to be saved???"
   ]
  },
  {
   "cell_type": "code",
   "execution_count": null,
   "metadata": {
    "collapsed": true
   },
   "outputs": [],
   "source": []
  },
  {
   "cell_type": "code",
   "execution_count": null,
   "metadata": {
    "collapsed": true
   },
   "outputs": [],
   "source": []
  },
  {
   "cell_type": "code",
   "execution_count": null,
   "metadata": {
    "collapsed": true
   },
   "outputs": [],
   "source": []
  },
  {
   "cell_type": "markdown",
   "metadata": {
    "collapsed": false
   },
   "source": [
    "<h3>Sim 4: Pressure of a gas</h3>"
   ]
  },
  {
   "cell_type": "markdown",
   "metadata": {},
   "source": [
    "Using the virial theorem we compute the pressure of the gas."
   ]
  },
  {
   "cell_type": "code",
   "execution_count": null,
   "metadata": {
    "collapsed": true
   },
   "outputs": [],
   "source": []
  }
 ],
 "metadata": {
  "kernelspec": {
   "display_name": "Python 3",
   "language": "python",
   "name": "python3"
  },
  "language_info": {
   "codemirror_mode": {
    "name": "ipython",
    "version": 3
   },
   "file_extension": ".py",
   "mimetype": "text/x-python",
   "name": "python",
   "nbconvert_exporter": "python",
   "pygments_lexer": "ipython3",
   "version": "3.5.1"
  }
 },
 "nbformat": 4,
 "nbformat_minor": 0
}
