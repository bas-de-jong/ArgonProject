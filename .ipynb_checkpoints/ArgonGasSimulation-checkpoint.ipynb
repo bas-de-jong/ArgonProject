{
 "cells": [
  {
   "cell_type": "code",
   "execution_count": 1,
   "metadata": {
    "collapsed": true
   },
   "outputs": [],
   "source": [
    "import numpy as np\n",
    "import math\n",
    "import matplotlib.pyplot as plt\n",
    "from numba import jit\n",
    "%matplotlib inline"
   ]
  },
  {
   "cell_type": "code",
   "execution_count": null,
   "metadata": {
    "collapsed": true
   },
   "outputs": [],
   "source": []
  },
  {
   "cell_type": "markdown",
   "metadata": {},
   "source": [
    "<h3>Constants and initial parameters </h3>"
   ]
  },
  {
   "cell_type": "code",
   "execution_count": 13,
   "metadata": {
    "collapsed": false
   },
   "outputs": [],
   "source": [
    "# Physical parameters in natural units\n",
    "mass = 1          # Mass of an Argon atom\n",
    "sigma = 1         # Position of potential well; U(sigma) = -epsilon\n",
    "epsilon = 1       # Depth of potential well.\n",
    "kb = 1            # Boltzmann constant\n",
    "T = 1             # Temperature. T = (temperature in Kelvin) / 119.8 \n",
    "\n",
    "# Units of time\n",
    "tau = ((mass/epsilon) * sigma**2) ** (1/2) # Unit of time\n",
    "dt = 4e-3 * tau                            # Size of time step ~ 1e-14 s\n",
    "nsteps = 1000                              # Number of timesteps\n",
    "\n",
    "# Cut-off distance\n",
    "r_cut = 3*sigma\n",
    "\n",
    "#System size\n",
    "N = 108         # Number of particles\n",
    "\n",
    "#Choose a or density:\n",
    "# a:\n",
    "a = 1.2*sigma          # Unit cell size\n",
    "density = 4/(a**3)     # Density, number of atoms / sigma^3\n",
    "# density:\n",
    "\n",
    "\"\"\" density = 1            # Density, number of atoms / sigma^3\n",
    "a = (4/density)**(1/3) # Unit cell size \"\"\"\n",
    "\n",
    "# Number of unit cells\n",
    "M = 1                  # Number of unit cell in one direction\n",
    "while (4*(M**3)) < N:\n",
    "    M += 1\n",
    "L_box = M*a            # Length of sides of box\n"
   ]
  },
  {
   "cell_type": "markdown",
   "metadata": {},
   "source": [
    "<h3>Initialization</h3>"
   ]
  },
  {
   "cell_type": "code",
   "execution_count": 14,
   "metadata": {
    "collapsed": false
   },
   "outputs": [],
   "source": [
    "@jit\n",
    "def initializeRP(N,M,T,a):\n",
    "    \n",
    "    # Initialize positions, r\n",
    "    r = np.zeros((N,3))\n",
    "    unit_cell = np.array([[0.0, 0.0, 0.0],[0.5*a, 0.5*a, 0.0],[0.5*a, 0.0, 0.5*a],[0.0, 0.5*a, 0.5*a]]) # Position of atoms on the unit cell\n",
    "    \n",
    "    # Place particles on the lattice\n",
    "    n = 0                                             # Number of particles placed so far\n",
    "    for i in range(M):\n",
    "        for j in range(M):\n",
    "            for k in range(M):\n",
    "                for l in range(4):\n",
    "                    if n<N:\n",
    "                        r[n,:] = unit_cell[l,:] + [i*a, j*a, k*a]\n",
    "                        n += 1\n",
    "    \n",
    "    # Initialize momenta of particles, p\n",
    "    p = np.random.normal(0, (kb*T*mass)**(1/2), (N,3))\n",
    "    \n",
    "    # Correct for drift of center of mass\n",
    "    vCM = np.sum(p,0)/(N*mass)                        # Velocity of center of mass\n",
    "    p -= -vCM*mass\n",
    "    \n",
    "    # Rescale the velocity to agree with the temperature\n",
    "    p = p * (((N-1)*3*kb*T)/ (np.sum(p*p)/mass))**(1/2)\n",
    "    \n",
    "    return r, p"
   ]
  },
  {
   "cell_type": "markdown",
   "metadata": {},
   "source": [
    "<h3>Force Calculation</h3>"
   ]
  },
  {
   "cell_type": "code",
   "execution_count": 17,
   "metadata": {
    "collapsed": false
   },
   "outputs": [],
   "source": [
    "@jit\n",
    "def computeForce(r,N,L_box):\n",
    "    force = np.zeros((N,3))\n",
    "    r_cutsqrd = r_cut*r_cut\n",
    "    potential = 0\n",
    "    rij = np.zeros(3)\n",
    "    \n",
    "    for i in range(N-1):\n",
    "        for j in range((i+1),N):\n",
    "            rij[0] = r[i,0]-r[j,0]\n",
    "            rij[1] = r[i,1]-r[j,1]\n",
    "            rij[2] = r[i,2]-r[j,2]\n",
    "            \n",
    "            rij[0] -= np.rint(rij[0]/L_box)*L_box\n",
    "            rij[1] -= np.rint(rij[1]/L_box)*L_box\n",
    "            rij[2] -= np.rint(rij[2]/L_box)*L_box\n",
    "            \n",
    "            r_sqrd = rij[0]*rij[0] + rij[1]*rij[1] + rij[2]*rij[2]\n",
    "            \n",
    "            if (r_sqrd < r_cutsqrd or cutoffswitch):\n",
    "                F = 12*((1/r_sqrd)**7 -(1/r_sqrd)**4)\n",
    "                potential += (1/r_sqrd)**6 -2*(1/r_sqrd)**3\n",
    "                \n",
    "                force[i,0] += rij[0]*F\n",
    "                force[j,0] -= rij[0]*F\n",
    "                \n",
    "                force[i,1] += rij[1]*F\n",
    "                force[j,1] -= rij[1]*F\n",
    "                \n",
    "                force[i,2] += rij[2]*F\n",
    "                force[j,2] -= rij[2]*F\n",
    "                \n",
    "    return force, potential"
   ]
  },
  {
   "cell_type": "code",
   "execution_count": null,
   "metadata": {
    "collapsed": false
   },
   "outputs": [],
   "source": []
  },
  {
   "cell_type": "code",
   "execution_count": null,
   "metadata": {
    "collapsed": true
   },
   "outputs": [],
   "source": []
  }
 ],
 "metadata": {
  "kernelspec": {
   "display_name": "Python 3",
   "language": "python",
   "name": "python3"
  },
  "language_info": {
   "codemirror_mode": {
    "name": "ipython",
    "version": 3
   },
   "file_extension": ".py",
   "mimetype": "text/x-python",
   "name": "python",
   "nbconvert_exporter": "python",
   "pygments_lexer": "ipython3",
   "version": "3.5.1"
  }
 },
 "nbformat": 4,
 "nbformat_minor": 0
}
