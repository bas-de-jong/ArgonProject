{
 "cells": [
  {
   "cell_type": "markdown",
   "metadata": {},
   "source": [
    "# Simulating Argon Gas"
   ]
  },
  {
   "cell_type": "markdown",
   "metadata": {},
   "source": [
    "This program simulates an Argon Gas."
   ]
  },
  {
   "cell_type": "markdown",
   "metadata": {},
   "source": [
    "## Importing packages"
   ]
  },
  {
   "cell_type": "markdown",
   "metadata": {},
   "source": [
    "Importing the needed packages:"
   ]
  },
  {
   "cell_type": "code",
   "execution_count": 1,
   "metadata": {
    "collapsed": false
   },
   "outputs": [],
   "source": [
    "import numpy as np\n",
    "import math\n",
    "import matplotlib.pyplot as plt\n",
    "from numba import jit"
   ]
  },
  {
   "cell_type": "markdown",
   "metadata": {},
   "source": [
    "## Initialization"
   ]
  },
  {
   "cell_type": "markdown",
   "metadata": {},
   "source": [
    "Initializes the needed variables. These are: <br>\n",
    "N, the number of particles <br>\n",
    "T, the temperature. <br>\n",
    "m, the mass of a Argon particle <br>\n",
    "rho, the density of the gas <br>\n",
    "sigma, the interaction radius <br>\n",
    "epsilon, the interaction strength <br>\n",
    "h, timestep of the simulation <br>\n",
    "<br>\n",
    "The needed variables for each of N particles: position r, momentum p, and force f. These all have 3 components, in the x-, y-, and z-direction."
   ]
  },
  {
   "cell_type": "code",
   "execution_count": 2,
   "metadata": {
    "collapsed": false
   },
   "outputs": [],
   "source": [
    "N = 4\n",
    "T = 1\n",
    "m = 1\n",
    "rho = 1\n",
    "sigma = 0.1\n",
    "epsilon = 1\n",
    "h = 0.1\n",
    "\n",
    "p = np.zeros((N,3))\n",
    "r = np.zeros((N,3))\n",
    "f = np.zeros((N,3))"
   ]
  },
  {
   "cell_type": "markdown",
   "metadata": {},
   "source": [
    "Now we define a function to set the positions according to a braivais-fcc lattice."
   ]
  },
  {
   "cell_type": "code",
   "execution_count": 3,
   "metadata": {
    "collapsed": true
   },
   "outputs": [],
   "source": [
    "@jit\n",
    "def initPositions(r,N,rho):\n",
    "    \n",
    "    #Compute lenght of sides of cube with volume V=N/rho\n",
    "    L = (N/rho) ** (1/3)\n",
    "    \n",
    "    #Compute laticce constant a that fits all N atoms into V\n",
    "    K = 1                                                             #Number of unit cell in one direction\n",
    "    while (4 * (K ** 3)) < N:\n",
    "        K = K + 1\n",
    "    a = L/K\n",
    "    \n",
    "    #Set position particles in unit cell\n",
    "    unit_cell = np.array([[0.0, 0.0, 0.0],[0.5*a, 0.5*a, 0.0],[0.5*a, 0.0, 0.5*a],[0.0, 0.5*a, 0.5*a]])\n",
    "    \n",
    "    #Place particles on the lattice until N = 4K^3\n",
    "    n=0                                                               #Number of particles placed in lattice\n",
    "    for i in range(K):\n",
    "        for j in range(K):\n",
    "            for k in range(K):\n",
    "                for l in range(4):\n",
    "                    if n<N:\n",
    "                        r[n,0] = unit_cell[l,0]+i*a\n",
    "                        r[n,1] = unit_cell[l,1]+j*a\n",
    "                        r[n,2] = unit_cell[l,2]+k*a\n",
    "                        n = n + 1\n",
    "    return r"
   ]
  },
  {
   "cell_type": "markdown",
   "metadata": {},
   "source": [
    "The momenta according to a Maxwell-Boltzmann distribution, keeping in mind that the particles can have negative velocities along the x-, y-, and z-direction. Subsequently the drift of the center of mass of the particles is shifted to zero and v is scaled to  force the desired temperature upon the gas. We define a function to do so."
   ]
  },
  {
   "cell_type": "code",
   "execution_count": 4,
   "metadata": {
    "collapsed": true
   },
   "outputs": [],
   "source": [
    "@jit\n",
    "def initMomentum(p,N,T):\n",
    "    \n",
    "    #Set the variance of the Gaussian distribution to k*T/m\n",
    "    k = 1.38e-23\n",
    "    sigma = np.sqrt(k*T*m)\n",
    "    mu = 0\n",
    "    \n",
    "    #Assign momentum components to all particles\n",
    "    for n in range(N):\n",
    "        for j in range(3):\n",
    "            p[n,j] = np.random.normal(mu,sigma,1)\n",
    "            \n",
    "    #Correct for drift of center of mass\n",
    "    vCM = sum(p)/(N*m)                                         #Velocity of center of mass\n",
    "    p[:,:] = p[:,:]-vCM*m\n",
    "    \n",
    "    return p"
   ]
  },
  {
   "cell_type": "markdown",
   "metadata": {},
   "source": [
    "## Solve Newton's Equations"
   ]
  },
  {
   "cell_type": "markdown",
   "metadata": {},
   "source": [
    "We start by defining a function to compute the forces on all particles. To do this we use Lennard-Jones potential for interaction and periodic boundary conditions. The boundary conditions require us to use the minimum image convention."
   ]
  },
  {
   "cell_type": "code",
   "execution_count": 5,
   "metadata": {
    "collapsed": false
   },
   "outputs": [],
   "source": [
    "@jit\n",
    "def computeForces(r,N,sigma,epsilon):\n",
    "    L = (N/rho) ** (1/3)\n",
    "    \n",
    "    #Compute the distance between all particles\n",
    "    for i in range(N-1):\n",
    "        for j in range((i+1),N):\n",
    "            rij = np.zeros(3)\n",
    "            for k in range(3):\n",
    "                rij[k] = r[i,k]-r[j,k]\n",
    "                #Apply minimum image convention\n",
    "                if rij[k] > 0.5*L:\n",
    "                    if rij[k] > 0:\n",
    "                        rij[k] = rij[k] - L\n",
    "                    else:\n",
    "                        rij[k] = rij[k] + L\n",
    "                        \n",
    "            #Calculating the force of pair ij\n",
    "            \n",
    "            rabs = (rij[0] ** 2 + rij[1] ** 2 + rij[2] ** 2) ** (1/2)           #Absolute distance between pairs\n",
    "            famp = 24*(epsilon/sigma)*(2*(sigma/rabs)**14 -(sigma/rabs)**8)\n",
    "            for k in range(3):\n",
    "                f[i,k] = f[i,k]+rij[k]*famp\n",
    "                f[j,k] = f[j,k]-rij[k]*famp\n",
    "                \n",
    "    return f   "
   ]
  },
  {
   "cell_type": "markdown",
   "metadata": {},
   "source": [
    "We define a function which executes the Verlet algorithm to find the new position r and momentum p of each particle at a later time t+h."
   ]
  },
  {
   "cell_type": "code",
   "execution_count": 6,
   "metadata": {
    "collapsed": false
   },
   "outputs": [],
   "source": [
    "@jit\n",
    "def computeTimeStep(r,p,rho,N):\n",
    "    L = (N/rho) ** (1/3)\n",
    "    \n",
    "    computeForces(r,N,sigma,epsilon)\n",
    "    \n",
    "    #Now we use the first equation to find the new r\n",
    "    for i in range(N):\n",
    "        for k in range(3):\n",
    "            r[i,k] = r[i,k] + (p[i,k]/m)*h + (1/2)*(f[i,k]/m)*(h**2)\n",
    "            \n",
    "            #Place particle back into volume\n",
    "            if r[i,k] >= L:\n",
    "                r[i,k] = r[i,k] - L\n",
    "            elif r[i,k] < 0:\n",
    "                r[i,k] = r[i,k] + L\n",
    "            \n",
    "            #Compute first part of new momentum\n",
    "            p[i,k] = p[i,k] + (1/2)*f[i,k]*h\n",
    "    \n",
    "    #Update the forces to the new positions\n",
    "    computeForces(r,N,sigma,epsilon)\n",
    "    \n",
    "    #Compute the second part of the new momentum\n",
    "    for i in range(N):\n",
    "        for k in range(3):\n",
    "            p[i,k] = p[i,k] + (1/2)*f[i,k]*h\n",
    "    \n",
    "    return r,p,f"
   ]
  },
  {
   "cell_type": "code",
   "execution_count": null,
   "metadata": {
    "collapsed": false
   },
   "outputs": [],
   "source": []
  }
 ],
 "metadata": {
  "kernelspec": {
   "display_name": "Python 3",
   "language": "python",
   "name": "python3"
  },
  "language_info": {
   "codemirror_mode": {
    "name": "ipython",
    "version": 3
   },
   "file_extension": ".py",
   "mimetype": "text/x-python",
   "name": "python",
   "nbconvert_exporter": "python",
   "pygments_lexer": "ipython3",
   "version": "3.5.1"
  }
 },
 "nbformat": 4,
 "nbformat_minor": 0
}
