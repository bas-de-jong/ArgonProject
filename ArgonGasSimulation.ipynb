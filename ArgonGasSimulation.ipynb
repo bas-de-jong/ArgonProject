{
 "cells": [
  {
   "cell_type": "markdown",
   "metadata": {},
   "source": [
    "<h4>Import required libraries</h4>"
   ]
  },
  {
   "cell_type": "code",
   "execution_count": 1,
   "metadata": {
    "collapsed": true
   },
   "outputs": [],
   "source": [
    "import numpy as np\n",
    "import math\n",
    "import matplotlib.pyplot as plt\n",
    "from numba import jit\n",
    "%matplotlib inline"
   ]
  },
  {
   "cell_type": "markdown",
   "metadata": {},
   "source": [
    "<h3>Initialization</h3>"
   ]
  },
  {
   "cell_type": "markdown",
   "metadata": {},
   "source": [
    "Defines the function that initializes the position of the particles and their momenta.\n",
    "The particles are placed in a fcc lattice and are given momenta that are picked from a maxwell-boltzmann distribution."
   ]
  },
  {
   "cell_type": "code",
   "execution_count": 2,
   "metadata": {
    "collapsed": false
   },
   "outputs": [],
   "source": [
    "def initializeRP(N,M,T,a):\n",
    "    \n",
    "    # Initialize positions, r\n",
    "    r = np.zeros((N,3))\n",
    "    unit_cell = np.array([[0.0, 0.0, 0.0],[0.5*a, 0.5*a, 0.0],[0.5*a, 0.0, 0.5*a],[0.0, 0.5*a, 0.5*a]]) # Position of atoms on the unit cell\n",
    "    \n",
    "    # Place particles on the lattice\n",
    "    n = 0                                             # Number of particles placed so far\n",
    "    for i in range(M):\n",
    "        for j in range(M):\n",
    "            for k in range(M):\n",
    "                for l in range(4):\n",
    "                    if n<N:\n",
    "                        r[n,:] = unit_cell[l,:] + [i*a, j*a, k*a]\n",
    "                        n += 1\n",
    "    \n",
    "    # Initialize momenta of particles, p\n",
    "    p = np.random.normal(0, (kb*T*mass)**(1/2), (N,3))\n",
    "    \n",
    "    # Correct for drift of center of mass\n",
    "    vCM = np.sum(p,0)/(N*mass)                        # Velocity of center of mass\n",
    "    p -= -vCM*mass\n",
    "    \n",
    "    # Rescale the velocity to agree with the temperature\n",
    "    p = p * (((N-1)*3*kb*T)/ (np.sum(p*p)/mass))**(1/2)\n",
    "    \n",
    "    return r, p"
   ]
  },
  {
   "cell_type": "markdown",
   "metadata": {},
   "source": [
    "<h3>Force Calculation</h3>"
   ]
  },
  {
   "cell_type": "markdown",
   "metadata": {},
   "source": [
    "Defines the function that is used to calculate the force each particle caused by the two-particle interactions. The interactions are governed by a Lennard-Jones potential.\n",
    "Additionally the potential energy of the gas is calculated."
   ]
  },
  {
   "cell_type": "code",
   "execution_count": 3,
   "metadata": {
    "collapsed": false
   },
   "outputs": [],
   "source": [
    "@jit\n",
    "def computeForce(r,N,L_box,compPressure=False):\n",
    "    force = np.zeros((N,3))\n",
    "    r_cutsqrd = r_cut*r_cut\n",
    "    potential = 0\n",
    "    virialCoeff = 0\n",
    "    for i in range(N-1):\n",
    "        for j in range((i+1),N):\n",
    "            \n",
    "            rij_x = r[i,0]-r[j,0]\n",
    "            rij_y = r[i,1]-r[j,1]\n",
    "            rij_z = r[i,2]-r[j,2]\n",
    "            \n",
    "            rij_x -= np.rint(rij_x/L_box)*L_box\n",
    "            rij_y -= np.rint(rij_y/L_box)*L_box\n",
    "            rij_z -= np.rint(rij_z/L_box)*L_box\n",
    "            \n",
    "            r_sqrd = rij_x*rij_x + rij_y*rij_y + rij_z*rij_z\n",
    "            \n",
    "            if (r_sqrd < r_cutsqrd or noCutoff):\n",
    "                F = 12*((1/r_sqrd)**7 -(1/r_sqrd)**4)\n",
    "                potential += (1/r_sqrd)**6 -2*(1/r_sqrd)**3\n",
    "                \n",
    "                force[i,0] += rij_x*F\n",
    "                force[j,0] -= rij_x*F\n",
    "                \n",
    "                force[i,1] += rij_y*F\n",
    "                force[j,1] -= rij_y*F\n",
    "                \n",
    "                force[i,2] += rij_z*F\n",
    "                force[j,2] -= rij_z*F\n",
    "                \n",
    "                if compPressure:\n",
    "                    virialCoeff += r_sqrd**(1/2) * F\n",
    "                    \n",
    "    if compPressure:\n",
    "        return force, potential, virialCoeff\n",
    "                    \n",
    "                \n",
    "    return force, potential"
   ]
  },
  {
   "cell_type": "markdown",
   "metadata": {},
   "source": [
    "<h3>Correlation function</h3>"
   ]
  },
  {
   "cell_type": "markdown",
   "metadata": {},
   "source": [
    "$$ g(r)=\\frac{2V}{N(N-1)}\\left(\\frac{\\langle np(r)\\rangle }{4\\pi r^2 \\Delta r}\\right) \\simeq \\frac{\\langle np(r) \\rangle}{r^2} $$\n"
   ]
  },
  {
   "cell_type": "code",
   "execution_count": 29,
   "metadata": {
    "collapsed": true
   },
   "outputs": [],
   "source": [
    "def Correlation_function(r,nbins):\n",
    "    rij = np.zeros((N*(N-1))//2)\n",
    "    count = 0\n",
    "    \n",
    "    for i in range(N-1):\n",
    "        for j in range((i+1),N):\n",
    "                rij_x = r[i,0]-r[j,0]\n",
    "                rij_x -= np.rint(rij_x/L_box)*L_box\n",
    "                rij_y = r[i,1]-r[j,1]\n",
    "                rij_y -= np.rint(rij_y/L_box)*L_box\n",
    "                rij_z = r[i,2]-r[j,2]\n",
    "                rij_z -= np.rint(rij_z/L_box)*L_box\n",
    "                rij[count] = (rij_x*rij_x + rij_y*rij_y + rij_z*rij_z)**(1/2)\n",
    "                count = count+1\n",
    "    \n",
    "    #Order distances in histogram\n",
    "    Hist = np.histogram(rij, bins=nbins, range=[0, L_box*.5])\n",
    "    Hist_y = Hist[0]                                                 #height bins\n",
    "    Hist_x = Hist[1]                                                 #x-values hist\n",
    "    Delta_x = (Hist_x[1]-Hist_x[0])                                  #bin width\n",
    "    Center = np.linspace(Delta_x/2, Hist_x[-1]-Delta_x, len(Hist_y)) #Center of bins\n",
    "    \n",
    "    \n",
    "    #Calculate correlation function\n",
    "    Cor_func = 2*L_box**3*(N*(N-1))**(-1)*Hist_y/(4*math.pi*(Center)**2*Delta_x)\n",
    "    \n",
    "    plt.plot(Center, Cor_func)\n",
    "    plt.title('Correlation Function for T= after steps')\n",
    "    plt.xlabel('r')\n",
    "    plt.ylabel('g(r)')\n",
    "    \n",
    "    return Cor_func, Center"
   ]
  },
  {
   "cell_type": "markdown",
   "metadata": {},
   "source": [
    "<h3>Heat capacity</h3>"
   ]
  },
  {
   "cell_type": "markdown",
   "metadata": {},
   "source": [
    "Heat capacity NVT\n",
    "\n",
    "$$ C_V^{NVT} = \\frac{var \\left( E_{tot} \\right)}{T^2} $$"
   ]
  },
  {
   "cell_type": "code",
   "execution_count": 5,
   "metadata": {
    "collapsed": true
   },
   "outputs": [],
   "source": [
    "def Heat_capacity_NVT(T,var_E_tot):\n",
    "    \n",
    "    heat_cap_NVT = var_E_tot/(T)**2\n",
    "    return heat_cap_NVT"
   ]
  },
  {
   "cell_type": "markdown",
   "metadata": {},
   "source": [
    "Heat capacity NVE\n",
    "\n",
    " $$ C_V^{NVE} = \\left( \\frac{2}{3 N} - \\frac{var \\left( E_{kin} \\right)}{ \\langle E_{kin}\\rangle^2} \\right)^{-1} $$"
   ]
  },
  {
   "cell_type": "code",
   "execution_count": 6,
   "metadata": {
    "collapsed": true
   },
   "outputs": [],
   "source": [
    "def Heat_capacity_NVE(var_E_kin,exp_E_kin,N):\n",
    "    T_vec = np.linspace(0.1,3,20)\n",
    "    heat_cap_NVE_vec = np.zeros(len(T_vec))\n",
    "    \n",
    "    for i in range(len(T_vec)):\n",
    "        T = T_vec[i]\n",
    "        #heat_cap_NVE = (2*N)/3-4*var_E_kin/(9*T**2)\n",
    "        heat_cap_NVE = (2/(3*N)-var_E_kin/(exp_E_kin**2))**(-1)\n",
    "        heat_cap_NVE_vec[i] = heat_cap_NVE\n",
    "    \n",
    "    plt.plot(T_vec, heat_cap_NVE_vec)\n",
    "    plt.title('Heat capacity in NVE ensemble')\n",
    "    plt.xlabel('T')\n",
    "    plt.ylabel('C_v')\n",
    "    \n",
    "    \n",
    "    return heat_cap_NVE_vec\n"
   ]
  },
  {
   "cell_type": "markdown",
   "metadata": {
    "collapsed": true
   },
   "source": [
    "<h3>Calculating Standard Deviation of Physical Quantity</h3>"
   ]
  },
  {
   "cell_type": "markdown",
   "metadata": {
    "collapsed": true
   },
   "source": [
    "Split in blocks, find mean of separate blocks. Use these blocks to find standard deviation."
   ]
  },
  {
   "cell_type": "code",
   "execution_count": 7,
   "metadata": {
    "collapsed": true
   },
   "outputs": [],
   "source": [
    "def comp_std_mean(data, correlationtime):\n",
    "    data_parts = np.reshape(data,(correlationtime,(len(data)-len(data)%correlationtime)/correlationtime))\n",
    "    parts = np.mean(data_parts,1)\n",
    "    \n",
    "    # mean  of data\n",
    "    mean_data = np.mean(parts)\n",
    "    \n",
    "    # standard deviation\n",
    "    std_data = np.std(parts)\n",
    "    \n",
    "    return mean_data, std_data"
   ]
  },
  {
   "cell_type": "markdown",
   "metadata": {
    "collapsed": false
   },
   "source": [
    "<h3>Simulation</h3>"
   ]
  },
  {
   "cell_type": "markdown",
   "metadata": {},
   "source": [
    "Defines the function that is used to run a simulation."
   ]
  },
  {
   "cell_type": "code",
   "execution_count": 8,
   "metadata": {
    "collapsed": false
   },
   "outputs": [],
   "source": [
    "def simulate(N,M,T,a,L_box,dt,nsteps,energyPlot=False,compMomentum=False,constantT=False,compPressure=False,returnEnergy=False):\n",
    "    \n",
    "    E_kin = np.zeros(nsteps)\n",
    "    E_pot = np.zeros(nsteps)\n",
    "    \n",
    "    [r, p] = initializeRP(N,M,T,a)\n",
    "    r0 = r\n",
    "    p0 = p\n",
    "    \n",
    "    pressureCoeff = np.zeros(nsteps)\n",
    "    temperature = np.zeros(nsteps)\n",
    "    \n",
    "    force = computeForce(r,N,L_box)[0]\n",
    "    \n",
    "    for i in range(nsteps):\n",
    "        \n",
    "        # Verlet applied to position of particle and first part of momentum\n",
    "        p += (dt/2)*force\n",
    "        r += p*dt\n",
    "        r = r % L_box #Places particles back into box\n",
    "        \n",
    "        # Compute new force\n",
    "        if compPressure:\n",
    "            force, E_pot[i], pressureCoeff[i] = computeForce(r,N,L_box,compPressure=True)\n",
    "        else:\n",
    "            force, E_pot[i] = computeForce(r,N,L_box)\n",
    "        \n",
    "        # Second part of momentum, using Verlet\n",
    "        p += 0.5*force*dt\n",
    "        \n",
    "        # For a gas which is kept at a constant temperature\n",
    "        if constantT:\n",
    "            p = p * (((N-1)*3*kb*T)/ np.sum(p*p))**(1/2)\n",
    "        \n",
    "        E_kin[i] = 0.5*np.sum(p*p)\n",
    "        \n",
    "    if energyPlot:\n",
    "        plt.figure()\n",
    "        plt.plot(range(nsteps),(E_kin+E_pot), label='Total Energy')\n",
    "        plt.plot(range(nsteps),E_pot, label='Potential Energy')\n",
    "        plt.plot(range(nsteps),E_kin, label='Kinetic Energy')\n",
    "        plt.legend(loc='upper right')\n",
    "        plt.show()\n",
    "    \n",
    "    if compMomentum:\n",
    "        print('Initial momentum:', np.sum(p0,0)/N)\n",
    "        print('Final momentum:', np.sum(p,0)/N)\n",
    "        print('Difference in momentum:', np.sum(p0,0)/N-np.sum(p,0)/N )\n",
    "        \n",
    "    if compPressure:\n",
    "        return r, p, pressureCoeff\n",
    "    \n",
    "    if returnEnergy:\n",
    "        E_tot = E_kin + E_pot\n",
    "        return r, p, E_tot, E_kin\n",
    "        \n",
    "    return r, p"
   ]
  },
  {
   "cell_type": "markdown",
   "metadata": {},
   "source": [
    "<h1>Several simulations</h1>"
   ]
  },
  {
   "cell_type": "markdown",
   "metadata": {},
   "source": [
    "<h3>Sim 1: Microcanonical ensemble</h3>"
   ]
  },
  {
   "cell_type": "markdown",
   "metadata": {},
   "source": [
    "A simulation of a microcanonical ensemble. The number of particles, the volume, and the energy are kept constant."
   ]
  },
  {
   "cell_type": "markdown",
   "metadata": {},
   "source": [
    "<h4>Constants and initial parameters </h4>"
   ]
  },
  {
   "cell_type": "code",
   "execution_count": 8,
   "metadata": {
    "collapsed": false
   },
   "outputs": [],
   "source": [
    "# Physical parameters in natural units\n",
    "mass = 1          # Mass of an Argon atom\n",
    "sigma = 1         # Position of potential well; U(sigma) = -epsilon\n",
    "epsilon = 1       # Depth of potential well.\n",
    "kb = 1            # Boltzmann constant\n",
    "T = 1             # Temperature. T = (temperature in Kelvin) / 119.8 \n",
    "\n",
    "# Units of time\n",
    "tau = ((mass/epsilon) * sigma**2) ** (1/2) # Unit of time\n",
    "dt = 4e-3 * tau                            # Size of time step ~ 1e-14 s\n",
    "nsteps = 2000                              # Number of timesteps\n",
    "\n",
    "# Cut-off distance or switch\n",
    "r_cut = 3*sigma\n",
    "noCutoff = True\n",
    "\n",
    "#System size\n",
    "N = 256         # Number of particles\n",
    "\n",
    "#Choose a or density:\n",
    "# a:\n",
    "a = 1.5*sigma          # Unit cell size\n",
    "density = 4/(a**3)     # Density, number of atoms / sigma^3\n",
    "# density:\n",
    "\n",
    "\"\"\" density = 1            # Density, number of atoms / sigma^3\n",
    "a = (4/density)**(1/3) # Unit cell size \"\"\"\n",
    "\n",
    "# Number of unit cells\n",
    "M = 1                  # Number of unit cell in one direction\n",
    "while (4*(M**3)) < N:\n",
    "    M += 1\n",
    "L_box = M*a            # Length of sides of box\n",
    "if r_cut > L_box:\n",
    "    r_cut = 2*L_box/(2**(1/3))"
   ]
  },
  {
   "cell_type": "code",
   "execution_count": 9,
   "metadata": {
    "collapsed": false
   },
   "outputs": [
    {
     "data": {
      "image/png": "[encoded data removed]",
      "text/plain": [
       "<matplotlib.figure.Figure at 0x7f2fd30>"
      ]
     },
     "metadata": {},
     "output_type": "display_data"
    }
   ],
   "source": [
    "[r, p] = simulate(N,M,T,a,L_box,dt,nsteps,compPressure=False,energyPlot=True)"
   ]
  },
  {
   "cell_type": "markdown",
   "metadata": {},
   "source": [
    "The system behaves as expected, for different values of $a$ there is a different ratio between total kinetic and total potential energy as expected. The total energy remains constant as desired and after approximately 200 timesteps the system is in equilibrium.<br>\n",
    "<br>\n",
    "The fluctuations in total energy are on the order of: ...... <br>\n",
    "The fluctuations in temperature behave as $1/\\sqrt{N}$ as predicted by statistical mechanics."
   ]
  },
  {
   "cell_type": "markdown",
   "metadata": {
    "collapsed": false
   },
   "source": [
    "<h3>Sim 2: Canonical Ensemble</h3>"
   ]
  },
  {
   "cell_type": "markdown",
   "metadata": {},
   "source": [
    "A simulation of a canonical ensemble. The number of particles, the volume, and the temperature are kept constant."
   ]
  },
  {
   "cell_type": "markdown",
   "metadata": {},
   "source": [
    "<h4>Constants and initial parameters </h4>"
   ]
  },
  {
   "cell_type": "code",
   "execution_count": 10,
   "metadata": {
    "collapsed": false
   },
   "outputs": [],
   "source": [
    "# Physical parameters in natural units\n",
    "mass = 1          # Mass of an Argon atom\n",
    "sigma = 1         # Position of potential well; U(sigma) = -epsilon\n",
    "epsilon = 1       # Depth of potential well.\n",
    "kb = 1            # Boltzmann constant\n",
    "T = 1             # Temperature. T = (temperature in Kelvin) / 119.8 \n",
    "\n",
    "# Units of time\n",
    "tau = ((mass/epsilon) * sigma**2) ** (1/2) # Unit of time\n",
    "dt = 4e-3 * tau                            # Size of time step ~ 1e-14 s\n",
    "nsteps = 2000                              # Number of timesteps\n",
    "\n",
    "# Cut-off distance or switch\n",
    "r_cut = 3*sigma\n",
    "noCutoff = True\n",
    "\n",
    "#System size\n",
    "N = 256         # Number of particles\n",
    "\n",
    "#Choose a or density:\n",
    "# a:\n",
    "a = 1.5*sigma          # Unit cell size\n",
    "density = 4/(a**3)     # Density, number of atoms / sigma^3\n",
    "# density:\n",
    "\n",
    "\"\"\" density = 1            # Density, number of atoms / sigma^3\n",
    "a = (4/density)**(1/3) # Unit cell size \"\"\"\n",
    "\n",
    "# Number of unit cells\n",
    "M = 1                  # Number of unit cell in one direction\n",
    "while (4*(M**3)) < N:\n",
    "    M += 1\n",
    "L_box = M*a            # Length of sides of box\n",
    "if r_cut > L_box:\n",
    "    r_cut = 2*L_box/(2**(1/3))"
   ]
  },
  {
   "cell_type": "code",
   "execution_count": 11,
   "metadata": {
    "collapsed": false
   },
   "outputs": [
    {
     "data": {
      "image/png": "[encoded data removed]",
      "text/plain": [
       "<matplotlib.figure.Figure at 0x9bf3fd0>"
      ]
     },
     "metadata": {},
     "output_type": "display_data"
    },
    {
     "name": "stdout",
     "output_type": "stream",
     "text": [
      "Initial momentum: [-0.196213    0.0469244   0.00533967]\n",
      "Final momentum: [-0.31074989  0.07431593  0.00845664]\n",
      "Difference in momentum: [ 0.11453689 -0.02739153 -0.00311697]\n"
     ]
    }
   ],
   "source": [
    "[r, p] = simulate(N,M,T,a,L_box,dt,nsteps,energyPlot=True,compMomentum=True,constantT=True)"
   ]
  },
  {
   "cell_type": "markdown",
   "metadata": {
    "collapsed": true
   },
   "source": [
    "Blabla interesting results..............."
   ]
  },
  {
   "cell_type": "markdown",
   "metadata": {
    "collapsed": false
   },
   "source": [
    "<h3>Sim 3: The correlation function</h3>"
   ]
  },
  {
   "cell_type": "markdown",
   "metadata": {},
   "source": [
    "-"
   ]
  },
  {
   "cell_type": "code",
   "execution_count": 34,
   "metadata": {
    "collapsed": false
   },
   "outputs": [],
   "source": [
    "# Physical parameters in natural units\n",
    "mass = 1          # Mass of an Argon atom\n",
    "sigma = 1         # Position of potential well; U(sigma) = -epsilon\n",
    "epsilon = 1       # Depth of potential well.\n",
    "kb = 1            # Boltzmann constant\n",
    "T = 1             # Temperature. T = (temperature in Kelvin) / 119.8 \n",
    "\n",
    "# Units of time\n",
    "tau = ((mass/epsilon) * sigma**2) ** (1/2) # Unit of time\n",
    "dt = 4e-3 * tau                            # Size of time step ~ 1e-14 s\n",
    "nsteps = 1000                              # Number of timesteps\n",
    "\n",
    "#System size\n",
    "N = 6912         # Number of particles\n",
    "\n",
    "#Choose a or density:\n",
    "# a:\n",
    "a = 2**(1/2)*sigma          # Unit cell size\n",
    "density = 4/(a**3)     # Density, number of atoms / sigma^3\n",
    "# density:\n",
    "\n",
    "\"\"\" density = 1            # Density, number of atoms / sigma^3\n",
    "a = (4/density)**(1/3) # Unit cell size \"\"\"\n",
    "\n",
    "# Number of unit cells\n",
    "M = 1                  # Number of unit cell in one direction\n",
    "while (4*(M**3)) < N:\n",
    "    M += 1\n",
    "L_box = M*a            # Length of sides of box\n",
    "\n",
    "# Cut-off distance or switch\n",
    "r_cut = 3*sigma\n",
    "noCutoff = True\n",
    "if noCutoff:\n",
    "    r_cut = 2*L_box/(2**(1/3))"
   ]
  },
  {
   "cell_type": "code",
   "execution_count": 35,
   "metadata": {
    "collapsed": false
   },
   "outputs": [],
   "source": [
    "r = simulate(N,M,T,a,L_box,dt,nsteps)[0];\n",
    "#np.save('.\\Data\\posCorFunc_N=6912_T=1_a=sqrt(2)', r)"
   ]
  },
  {
   "cell_type": "code",
   "execution_count": 38,
   "metadata": {
    "collapsed": false
   },
   "outputs": [
    {
     "data": {
      "image/png": "[encoded data removed]",
      "text/plain": [
       "<matplotlib.figure.Figure at 0x9d56198>"
      ]
     },
     "metadata": {},
     "output_type": "display_data"
    }
   ],
   "source": [
    "nbins = 400\n",
    "Correlation_function(r,nbins);\n",
    "#plt.savefig('.\\Figures\\CorFunc_N=6912_T=1_a=sqrt(2)_bins=150.png')"
   ]
  },
  {
   "cell_type": "markdown",
   "metadata": {
    "collapsed": false
   },
   "source": [
    "<h3>Sim 4: Pressure of a gas</h3>"
   ]
  },
  {
   "cell_type": "markdown",
   "metadata": {},
   "source": [
    "Using the virial theorem we compute the pressure of the gas."
   ]
  },
  {
   "cell_type": "code",
   "execution_count": 15,
   "metadata": {
    "collapsed": false
   },
   "outputs": [],
   "source": [
    "# Physical parameters in natural units\n",
    "mass = 1          # Mass of an Argon atom\n",
    "sigma = 1         # Position of potential well; U(sigma) = -epsilon\n",
    "epsilon = 1       # Depth of potential well.\n",
    "kb = 1            # Boltzmann constant\n",
    "T = 1             # Temperature. T = (temperature in Kelvin) / 119.8 \n",
    "\n",
    "# Units of time\n",
    "tau = ((mass/epsilon) * sigma**2) ** (1/2) # Unit of time\n",
    "dt = 4e-3 * tau                            # Size of time step ~ 1e-14 s\n",
    "nsteps = 2000                              # Number of timesteps\n",
    "\n",
    "# Cut-off distance or switch\n",
    "r_cut = 3*sigma\n",
    "noCutoff = True\n",
    "\n",
    "#System size\n",
    "N = 256         # Number of particles\n",
    "\n",
    "# Number of unit cells\n",
    "M = 1                  # Number of unit cell in one direction\n",
    "while (4*(M**3)) < N:\n",
    "    M += 1"
   ]
  },
  {
   "cell_type": "code",
   "execution_count": 41,
   "metadata": {
    "collapsed": false
   },
   "outputs": [],
   "source": [
    "# Find pressure for multiple densities and temperatures\n",
    "density_array = [np.linspace(0.3, 1.05, 20), np.linspace(0.3, 1.05, 20), np.linspace(0.3, 1.05, 20)]\n",
    "T_array = [0.5, 1, 1.5]\n",
    "neq = 500 # equilibrium point\n",
    "\n",
    "pressure = [np.zeros([len(density_array[0]), nsteps-neq]), np.zeros([len(density_array[1]), nsteps-neq]), np.zeros([len(density_array[2]), nsteps-neq])]\n",
    "meanPressure = [np.zeros(len(density_array[0])), np.zeros(len(density_array[1])), np.zeros(len(density_array[2]))]\n",
    "error = [np.zeros(len(density_array[0])), np.zeros(len(density_array[1])), np.zeros(len(density_array[2]))]\n",
    "\n",
    "for temp in range(len(T_array)):\n",
    "    for dens in range(len(density_array[temp])):\n",
    "        density = density_array[temp][dens]\n",
    "        \n",
    "        a = (4/density)**(1/3) # Unit cell size\n",
    "        L_box = M*a            # Length of sides of box\n",
    "        r_cut = 2*L_box/(2**(1/3))\n",
    "        \n",
    "        pressureCoeff = simulate(N,M,T_array[temp],a,L_box,dt,nsteps,compPressure=True,constantT=True)[2]\n",
    "        \n",
    "        pzero = ((N/L_box**3)**2)*epsilon*np.pi*(8/3)*((sigma**12)/(3*r_cut**9)-(sigma**6)/(r_cut**3))\n",
    "        \n",
    "        pressure[temp][dens][:] = 3*(N/L_box**3)*kb*T - (1/(3*L_box**3))*pressureCoeff[neq:nsteps] - pzero  \n",
    "        meanPressure[temp][dens], error[temp][dens] = comp_std_mean(pressure[temp][dens][:], 50)\n"
   ]
  },
  {
   "cell_type": "code",
   "execution_count": 44,
   "metadata": {
    "collapsed": true
   },
   "outputs": [],
   "source": [
    "#Saving data\n",
    "#np.save('.\\Data\\meanPressure', meanPressure)\n",
    "#np.save('.\\Data\\error', error)  "
   ]
  },
  {
   "cell_type": "code",
   "execution_count": 45,
   "metadata": {
    "collapsed": false
   },
   "outputs": [
    {
     "data": {
      "image/png": "[encoded data removed]",
      "text/plain": [
       "<matplotlib.figure.Figure at 0x8357a90>"
      ]
     },
     "metadata": {},
     "output_type": "display_data"
    }
   ],
   "source": [
    "plt.figure()\n",
    "plt.errorbar(density_array[0],meanPressure[0]/T_array[0], yerr=error[0])\n",
    "plt.errorbar(density_array[1],meanPressure[1]/T_array[1], yerr=error[1])\n",
    "plt.errorbar(density_array[2],meanPressure[2]/T_array[2], yerr=error[2])\n",
    "plt.legend(['T = 0.5', 'T = 1', 'T = 1.5'], loc = 2)\n",
    "plt.xlabel(r'Density $\\rho$')\n",
    "plt.ylabel(r'$\\beta P$')\n",
    "#plt.savefig('.\\Figures\\Pressure_vs_Density_n=864.png')\n",
    "plt.show()"
   ]
  },
  {
   "cell_type": "markdown",
   "metadata": {
    "collapsed": false
   },
   "source": [
    "<h3>Sim 5: Heat capacity NVT and NVE</h3>"
   ]
  },
  {
   "cell_type": "code",
   "execution_count": 25,
   "metadata": {
    "collapsed": false
   },
   "outputs": [],
   "source": [
    "# Physical parameters in natural units\n",
    "mass = 1          # Mass of an Argon atom\n",
    "sigma = 1         # Position of potential well; U(sigma) = -epsilon\n",
    "epsilon = 1       # Depth of potential well.\n",
    "kb = 1            # Boltzmann constant\n",
    "T = 3             # Temperature. T = (temperature in Kelvin) / 119.8 \n",
    "\n",
    "# Units of time\n",
    "tau = ((mass/epsilon) * sigma**2) ** (1/2) # Unit of time\n",
    "dt = 4e-3 * tau                            # Size of time step ~ 1e-14 s\n",
    "nsteps = 10000                              # Number of timesteps\n",
    "\n",
    "# Cut-off distance or switch\n",
    "r_cut = 3*sigma\n",
    "noCutoff = True\n",
    "\n",
    "#System size\n",
    "N = 256         # Number of particles\n",
    "\n",
    "#Choose a or density:\n",
    "# a:\n",
    "a = 2**(1/2)*sigma          # Unit cell size\n",
    "density = 4/(a**3)     # Density, number of atoms / sigma^3\n",
    "# density:\n",
    "\n",
    "\"\"\" density = 1            # Density, number of atoms / sigma^3\n",
    "a = (4/density)**(1/3) # Unit cell size \"\"\"\n",
    "\n",
    "# Number of unit cells\n",
    "M = 1                  # Number of unit cell in one direction\n",
    "while (4*(M**3)) < N:\n",
    "    M += 1\n",
    "L_box = M*a            # Length of sides of box"
   ]
  },
  {
   "cell_type": "code",
   "execution_count": 26,
   "metadata": {
    "collapsed": false
   },
   "outputs": [
    {
     "data": {
      "text/plain": [
       "209.4672629922421"
      ]
     },
     "execution_count": 26,
     "metadata": {},
     "output_type": "execute_result"
    }
   ],
   "source": [
    "#calc heat cap\n",
    "[E_tot, E_kin] = simulate(N,M,T,a,L_box,dt,nsteps,energyPlot=False,compMomentum=False,constantT=True,\n",
    "                          returnEnergy = True)[2:4];\n",
    "exp_E_tot = np.mean(E_tot[500:])     #Expectation value of total energy for NVT\n",
    "var_E_tot = np.var(E_tot[500:])      #variance of total energy for NVT\n",
    "\n",
    "[E_tot, E_kin] = simulate(N,M,T,a,L_box,dt,nsteps,energyPlot=False,compMomentum=False,constantT=False,\n",
    "                          returnEnergy = True)[2:4];\n",
    "exp_E_kin = np.mean(E_kin[500:])     #Expection value of kinetic energy for NVE\n",
    "var_E_kin = np.var(E_kin[500:])      #variance of kinetic energy for NVE\n",
    "\n",
    "Heat_capacity_NVT(T,var_E_tot)"
   ]
  },
  {
   "cell_type": "code",
   "execution_count": 27,
   "metadata": {
    "collapsed": false
   },
   "outputs": [
    {
     "data": {
      "image/png": "[encoded data removed]",
      "text/plain": [
       "<matplotlib.figure.Figure at 0x9cb82b0>"
      ]
     },
     "metadata": {},
     "output_type": "display_data"
    }
   ],
   "source": [
    "Heat_capacity_NVE(var_E_kin,exp_E_kin,N);"
   ]
  },
  {
   "cell_type": "code",
   "execution_count": null,
   "metadata": {
    "collapsed": true
   },
   "outputs": [],
   "source": []
  }
 ],
 "metadata": {
  "kernelspec": {
   "display_name": "Python 3",
   "language": "python",
   "name": "python3"
  },
  "language_info": {
   "codemirror_mode": {
    "name": "ipython",
    "version": 3
   },
   "file_extension": ".py",
   "mimetype": "text/x-python",
   "name": "python",
   "nbconvert_exporter": "python",
   "pygments_lexer": "ipython3",
   "version": "3.5.1"
  }
 },
 "nbformat": 4,
 "nbformat_minor": 0
}
