{
 "cells": [
  {
   "cell_type": "markdown",
   "metadata": {},
   "source": [
    "<h4>Import required libraries</h4>"
   ]
  },
  {
   "cell_type": "code",
   "execution_count": 1,
   "metadata": {
    "collapsed": false
   },
   "outputs": [],
   "source": [
    "import numpy as np\n",
    "import math\n",
    "import matplotlib.pyplot as plt\n",
    "from numba import jit\n",
    "%matplotlib inline\n",
    "import warnings\n",
    "warnings.filterwarnings(\"ignore\", category=UserWarning, module=\"matplotlib\")"
   ]
  },
  {
   "cell_type": "code",
   "execution_count": 2,
   "metadata": {
    "collapsed": true
   },
   "outputs": [],
   "source": [
    "# Ensures Proper Plots\n",
    "stylesheet = {'axes.titlesize': 20,\n",
    "              'axes.linewidth': 1.2,\n",
    "              'axes.labelsize': 18,\n",
    "              'font.size': 14,\n",
    "              'legend.fontsize': 14,\n",
    "              'xtick.labelsize': 14,\n",
    "              'xtick.major.size': 5,\n",
    "              'xtick.major.width': 1.2,\n",
    "              'ytick.labelsize': 14,\n",
    "              'ytick.major.size': 5,\n",
    "              'ytick.major.width': 1.2,\n",
    "              'figure.autolayout': True}\n",
    "plt.rcParams.update(stylesheet)"
   ]
  },
  {
   "cell_type": "markdown",
   "metadata": {},
   "source": [
    "<h3>Constants and Global parameters</h3>"
   ]
  },
  {
   "cell_type": "markdown",
   "metadata": {},
   "source": [
    "Within the code we use natural units. This allows us to ignore many parameters since they are 1. More importantly it allows for the expression of physical quantities in terms of these units, making the simulation representative of all gases with similar interaction."
   ]
  },
  {
   "cell_type": "code",
   "execution_count": 3,
   "metadata": {
    "collapsed": true
   },
   "outputs": [],
   "source": [
    "# Physical parameters in natural units\n",
    "\n",
    "#These variables are always equal to one, as such they do not need to be declared.\n",
    "#mass = 1                                   # Mass of an Argon atom\n",
    "#sigma = 1                                  # Position of the minimum of potential well\n",
    "#epsilon = 1                                # Depth of potential well.\n",
    "#kb = 1                                     # Boltzmann constant\n",
    "#tau = ((mass/epsilon) * sigma**2) ** (1/2) # Unit of time"
   ]
  },
  {
   "cell_type": "code",
   "execution_count": 4,
   "metadata": {
    "collapsed": false
   },
   "outputs": [],
   "source": [
    "#These parameters will always be taken the same value\n",
    "dt = 4e-3           # Size of a time step 4e-3*tau ~ 1e-14 s\n",
    "r_cut = 3     # Cut-off distance\n",
    "noCutoff = False    # Turn off cutoff distance"
   ]
  },
  {
   "cell_type": "markdown",
   "metadata": {},
   "source": [
    "<h1>Essential Functions</h1>"
   ]
  },
  {
   "cell_type": "markdown",
   "metadata": {},
   "source": [
    "<h3>Initialization</h3>"
   ]
  },
  {
   "cell_type": "markdown",
   "metadata": {},
   "source": [
    "Defines the function that initializes the position of the particles and their momenta.\n",
    "The particles are placed in a fcc lattice and are given momenta that are picked from a maxwell-boltzmann distribution."
   ]
  },
  {
   "cell_type": "code",
   "execution_count": 5,
   "metadata": {
    "collapsed": false
   },
   "outputs": [],
   "source": [
    "def initializeRP(N,M,T,a):\n",
    "    \n",
    "    # Initialize positions, r\n",
    "    r = np.zeros((N,3))\n",
    "    unit_cell = np.array([[0.0, 0.0, 0.0],[0.5*a, 0.5*a, 0.0],[0.5*a, 0.0, 0.5*a],[0.0, 0.5*a, 0.5*a]]) # Position of atoms in the unit cell\n",
    "    \n",
    "    # Place particles on the lattice\n",
    "    n = 0                                     # Number of particles placed so far\n",
    "    for i in range(M):\n",
    "        for j in range(M):\n",
    "            for k in range(M):\n",
    "                for l in range(4):\n",
    "                    if n<N:\n",
    "                        r[n,:] = unit_cell[l,:] + [i*a, j*a, k*a]\n",
    "                        n += 1                # Placed an additional particle\n",
    "    \n",
    "    # Initialize momenta of particles, p\n",
    "    p = np.random.normal(0, (T)**(1/2), (N,3))\n",
    "    \n",
    "    # Correct for drift of center of mass\n",
    "    vCM = np.sum(p,0)/N                       # Velocity of center of mass\n",
    "    p -= vCM\n",
    "    \n",
    "    # Rescale the velocity to agree with the temperature\n",
    "    p = p * (((N-1)*3*T)/ (np.sum(p*p)))**(1/2)\n",
    "    \n",
    "    return r, p"
   ]
  },
  {
   "cell_type": "markdown",
   "metadata": {},
   "source": [
    "<h3>Force Calculation</h3>"
   ]
  },
  {
   "cell_type": "markdown",
   "metadata": {},
   "source": [
    "Defines the function that is used to calculate the force each particle feels due to the two-particle interactions. The interactions are governed by a Lennard-Jones potential.\n",
    "Additionally the potential energy of the gas is calculated and one of the coeffients needed to calculate the pressure are determined."
   ]
  },
  {
   "cell_type": "code",
   "execution_count": 6,
   "metadata": {
    "collapsed": false
   },
   "outputs": [],
   "source": [
    "@jit\n",
    "def computeForce(r,N,L_box,compPressure=False):\n",
    "    force = np.zeros((N,3))\n",
    "    r_cutsqrd = r_cut*r_cut\n",
    "    potential = 0\n",
    "    virialCoeff = 0\n",
    "    for i in range(N-1):\n",
    "        for j in range((i+1),N):\n",
    "            \n",
    "            rij_x = r[i,0]-r[j,0]\n",
    "            rij_y = r[i,1]-r[j,1]\n",
    "            rij_z = r[i,2]-r[j,2]\n",
    "            \n",
    "            rij_x -= np.rint(rij_x/L_box)*L_box\n",
    "            rij_y -= np.rint(rij_y/L_box)*L_box\n",
    "            rij_z -= np.rint(rij_z/L_box)*L_box\n",
    "            \n",
    "            r_sqrd = rij_x*rij_x + rij_y*rij_y + rij_z*rij_z\n",
    "            \n",
    "            if (r_sqrd < r_cutsqrd or noCutoff):\n",
    "                F = 12*((1/r_sqrd)**7 -(1/r_sqrd)**4)\n",
    "                potential += (1/r_sqrd)**6 -2*(1/r_sqrd)**3\n",
    "                \n",
    "                force[i,0] += rij_x*F\n",
    "                force[j,0] -= rij_x*F\n",
    "                \n",
    "                force[i,1] += rij_y*F\n",
    "                force[j,1] -= rij_y*F\n",
    "                \n",
    "                force[i,2] += rij_z*F\n",
    "                force[j,2] -= rij_z*F\n",
    "                \n",
    "                if compPressure:\n",
    "                    virialCoeff += -r_sqrd * F\n",
    "                    \n",
    "    if compPressure:\n",
    "        return force, potential, virialCoeff\n",
    "                    \n",
    "                \n",
    "    return force, potential"
   ]
  },
  {
   "cell_type": "markdown",
   "metadata": {
    "collapsed": false
   },
   "source": [
    "<h3>Simulation</h3>"
   ]
  },
  {
   "cell_type": "markdown",
   "metadata": {},
   "source": [
    "Defines the function that is used to run a simulation. The function has many optional functionalities to facilitate the computation of several thermodynamic quantities."
   ]
  },
  {
   "cell_type": "code",
   "execution_count": 7,
   "metadata": {
    "collapsed": false
   },
   "outputs": [],
   "source": [
    "def simulate(N,T,a,r_cut,noCutoff,dt,nsteps,neq=500,energyPlot=False,compMomentum=False,constantT=False,compPressure=False,\n",
    "             returnEnergy=False):\n",
    "    \n",
    "    # Number of unit cells\n",
    "    M = 1                  # Number of unit cell in one direction\n",
    "    while (4*(M**3)) < N:\n",
    "        M += 1\n",
    "    L_box = M*a            # Length of sides of box\n",
    "    if r_cut > L_box:\n",
    "        r_cut = 2*L_box/(2**(1/3))\n",
    "\n",
    "    [r, p] = initializeRP(N,M,T,a) # Intialize the position and momenta of all particles\n",
    "    r0 = r\n",
    "    p0 = p\n",
    "    \n",
    "    #Initialization of several output variables\n",
    "    E_kin = np.zeros(nsteps) \n",
    "    E_pot = np.zeros(nsteps)\n",
    "    pressureCoeff = np.zeros(nsteps)\n",
    "    temperature = np.zeros(nsteps)\n",
    "    \n",
    "    force = computeForce(r,N,L_box)[0] #Initialize the force\n",
    "    \n",
    "    for i in range(nsteps):\n",
    "        \n",
    "        # Verlet applied to position of particle and first part of momentum\n",
    "        p += 0.5*force*dt\n",
    "        r += p*dt\n",
    "        r = r % L_box #Places particles back into box\n",
    "        \n",
    "        # Compute new force\n",
    "        if compPressure:\n",
    "            force, E_pot[i], pressureCoeff[i] = computeForce(r,N,L_box,compPressure=True)\n",
    "        else:\n",
    "            force, E_pot[i] = computeForce(r,N,L_box)\n",
    "        \n",
    "        # Second part of momentum, using Verlet\n",
    "        p += 0.5*force*dt\n",
    "        \n",
    "        # For a gas which is kept at a constant temperature or to bring the system into equilibrium\n",
    "        if ((i%20 == 0 and i<neq) or constantT):\n",
    "            p = p * (((N-1)*3*T)/ np.sum(p*p))**(1/2)\n",
    "        \n",
    "        E_kin[i] = 0.5*np.sum(p*p)\n",
    "        \n",
    "    if energyPlot:\n",
    "        plt.figure()\n",
    "        plt.plot(np.linspace(0,nsteps,nsteps)*dt,(E_kin+E_pot)/N, label='Total Energy')\n",
    "        plt.plot(np.linspace(0,nsteps,nsteps)*dt,E_pot/N, label='Potential Energy')\n",
    "        plt.plot(np.linspace(0,nsteps,nsteps)*dt,E_kin/N, label='Kinetic Energy')\n",
    "        plt.legend(loc='best')\n",
    "        plt.xlabel(r'$t (\\tau)$')\n",
    "        plt.ylabel(r'$E (\\epsilon)$')\n",
    "        plt.savefig('.\\Figures\\Energypp_Time')\n",
    "        plt.show()\n",
    "    \n",
    "    if compMomentum:\n",
    "        print('Initial momentum:', np.sum(p0,0)/N)\n",
    "        print('Final momentum:', np.sum(p,0)/N)\n",
    "        print('Difference in momentum:', np.sum(p0,0)/N-np.sum(p,0)/N )\n",
    "        \n",
    "    if compPressure:\n",
    "        return r, p, pressureCoeff\n",
    "    \n",
    "    if returnEnergy:\n",
    "        E_tot = E_kin + E_pot\n",
    "        return r, p, E_tot, E_kin\n",
    "        \n",
    "    return r, p"
   ]
  },
  {
   "cell_type": "markdown",
   "metadata": {},
   "source": [
    "<h1>Specific Task Functions</h1>"
   ]
  },
  {
   "cell_type": "markdown",
   "metadata": {},
   "source": [
    "<h3>Correlation function</h3>"
   ]
  },
  {
   "cell_type": "markdown",
   "metadata": {},
   "source": [
    "Uses the following formula to determine the correlation function of a set of particles with positions r. <br>\n",
    "$$ g(r)=\\frac{2V}{N(N-1)}\\left(\\frac{\\langle np(r)\\rangle }{4\\pi r^2 \\Delta r}\\right) \\simeq \\frac{\\langle np(r) \\rangle}{r^2} $$\n"
   ]
  },
  {
   "cell_type": "code",
   "execution_count": 8,
   "metadata": {
    "collapsed": true
   },
   "outputs": [],
   "source": [
    "def Correlation_function(r,nbins):\n",
    "    rij = np.zeros((N*(N-1))//2)\n",
    "    count = 0\n",
    "    \n",
    "    # Number of unit cells\n",
    "    M = 1                  # Number of unit cell in one direction\n",
    "    while (4*(M**3)) < N:\n",
    "        M += 1\n",
    "    L_box = M*a            # Length of sides of box\n",
    "    \n",
    "    for i in range(N-1):\n",
    "        for j in range((i+1),N):\n",
    "                rij_x = r[i,0]-r[j,0]\n",
    "                rij_x -= np.rint(rij_x/L_box)*L_box\n",
    "                rij_y = r[i,1]-r[j,1]\n",
    "                rij_y -= np.rint(rij_y/L_box)*L_box\n",
    "                rij_z = r[i,2]-r[j,2]\n",
    "                rij_z -= np.rint(rij_z/L_box)*L_box\n",
    "                rij[count] = (rij_x*rij_x + rij_y*rij_y + rij_z*rij_z)**(1/2)\n",
    "                count = count+1\n",
    "    \n",
    "    #Order distances in histogram\n",
    "    Hist = np.histogram(rij, bins=nbins, range=[0, L_box*.5])\n",
    "    Hist_y = Hist[0]                                                 #height bins\n",
    "    Hist_x = Hist[1]                                                 #x-values hist\n",
    "    Delta_x = (Hist_x[1]-Hist_x[0])                                  #bin width\n",
    "    Center = np.linspace(Delta_x/2, Hist_x[-1]-Delta_x, len(Hist_y)) #Center of bins\n",
    "    \n",
    "    \n",
    "    #Calculate correlation function\n",
    "    Cor_func = 2*L_box**3*(N*(N-1))**(-1)*Hist_y/(4*math.pi*(Center)**2*Delta_x)\n",
    "    \n",
    "    return Cor_func, Center"
   ]
  },
  {
   "cell_type": "markdown",
   "metadata": {},
   "source": [
    "<h3>Heat capacity</h3>"
   ]
  },
  {
   "cell_type": "markdown",
   "metadata": {},
   "source": [
    "Determines the canonical heat capacity of the system for a set of temperatures and unit cell sizes using the following formula. <br>\n",
    "\n",
    "$$ \\frac{C_V^{NVT}}{N} = \\frac{var \\left( E_{pot} \\right)}{NT^2} + \\frac{3}{2}$$"
   ]
  },
  {
   "cell_type": "code",
   "execution_count": 9,
   "metadata": {
    "collapsed": true
   },
   "outputs": [],
   "source": [
    "def Heat_capacity_NVT(N,T_vec,a_vec,r_cut,noCutoff,dt,nsteps,neq):\n",
    "    \n",
    "    heat_cap_NVT_vec = np.zeros((len(a_vec),len(T_vec)))  # Initializes the output variable\n",
    "    std_Cv = np.zeros((len(a_vec),len(T_vec)))            # Initializes the output variable\n",
    "    \n",
    "    part_size = 1000                   # The size of one block, for the blocking method\n",
    "\n",
    "    for i in range(len(a_vec)):\n",
    "        a = a_vec[i]\n",
    "        for j in range(len(T_vec)):\n",
    "            T = T_vec[j]\n",
    "            \n",
    "            # Temperature Check\n",
    "            if T<0.15:                 # Implemented to use extremely large equilibrium times for low temperatures,\n",
    "                neqspecial = 100000    # can reduce total computation time for a large range of temperatures.\n",
    "            elif T<0.25:\n",
    "                neqspecial = 40000\n",
    "            elif T<0.5:\n",
    "                neqspecial = 20000\n",
    "            else:\n",
    "                neqspecial = 1\n",
    "                \n",
    "            if neqspecial>neq:\n",
    "                equilibrium = neqspecial\n",
    "                totalsteps = neqspecial + nsteps - neq\n",
    "            else:\n",
    "                equilibrium = neq\n",
    "                totalsteps = nsteps\n",
    "            \n",
    "            # Simulation of system\n",
    "            [E_tot, E_kin] = simulate(N,T,a,r_cut,noCutoff,dt,totalsteps,neq=equilibrium,returnEnergy=True)[2:4]\n",
    "            E_pot = E_tot - E_kin\n",
    "            \n",
    "            # Applies the blocking method\n",
    "            E_tot_parts = np.reshape(E_tot[equilibrium:],\n",
    "                                     (part_size,(len(E_tot[equilibrium:])-len(E_tot[equilibrium:])%part_size)/part_size))\n",
    "            \n",
    "            mean_sqr_parts = np.mean(E_tot_parts,0)\n",
    "            var_parts = np.var(E_tot_parts,0)\n",
    "            \n",
    "            Cv_parts = var_parts/(N*T**2) + 3/2\n",
    "            \n",
    "            heat_cap_NVT_vec[i,j] = np.mean(Cv_parts)\n",
    "            std_Cv[i,j] = np.std(Cv_parts)\n",
    "            \n",
    "            # Acts as a progress bar\n",
    "            print(j, end = \" \")\n",
    "    return heat_cap_NVT_vec, std_Cv"
   ]
  },
  {
   "cell_type": "markdown",
   "metadata": {},
   "source": [
    "Determines the microcanonical heat capacity of the system for a set of temperatures and unit cell sizes using the following formula. <br>\n",
    "\n",
    " $$ C_V^{NVE} = \\left( \\frac{2}{3 N} - \\frac{var \\left( E_{kin} \\right)}{ \\langle E_{kin}\\rangle^2} \\right)^{-1} $$"
   ]
  },
  {
   "cell_type": "code",
   "execution_count": 10,
   "metadata": {
    "collapsed": true
   },
   "outputs": [],
   "source": [
    "def Heat_capacity_NVE(N,T_vec,a_vec,r_cut,noCutoff,dt,nsteps,neq):\n",
    "    \n",
    "    heat_cap_NVE_vec = np.zeros((len(a_vec),len(T_vec)))  # Initializes the output variable\n",
    "    std_Cv = np.zeros((len(a_vec),len(T_vec)))            # Initializes the output variable\n",
    "    \n",
    "    part_size = 1000                   # The size of one block, for the blocking method\n",
    "    \n",
    "    for i in range(len(a_vec)):\n",
    "        a = a_vec[i]\n",
    "        for j in range(len(T_vec)):\n",
    "            T = T_vec[j]\n",
    "            \n",
    "            # Temperature Check\n",
    "            if T<0.15:                # Implemented to use extremely large equilibrium times for low temperatures,\n",
    "                neqspecial = 100000   # can reduce total computation time for a large range of temperatures.\n",
    "            elif T<0.25:\n",
    "                neqspecial = 40000\n",
    "            elif T<0.5:\n",
    "                neqspecial = 20000\n",
    "            else:\n",
    "                neqspecial = 1\n",
    "                \n",
    "            if neqspecial>neq:\n",
    "                equilibrium = neqspecial\n",
    "                totalsteps = neqspecial + nsteps - neq\n",
    "            else:                    # Restores the given equilibrium time\n",
    "                equilibrium = neq\n",
    "                totalsteps = nsteps\n",
    "                \n",
    "            # Simulation of system\n",
    "            [E_tot, E_kin] = simulate(N,T,a,r_cut,noCutoff,dt,totalsteps,neq=equilibrium,returnEnergy=True)[2:4];\n",
    "            \n",
    "            E_kin_parts = np.reshape(E_kin[equilibrium:],\n",
    "                                     (part_size,(len(E_kin[equilibrium:])-len(E_kin[equilibrium:])%part_size)/part_size))\n",
    "            \n",
    "            # Applies the blocking method\n",
    "            mean_sqr_parts = np.mean(E_kin_parts,0)\n",
    "            var_parts = np.var(E_kin_parts,0)\n",
    "            \n",
    "            Cv_parts = (2/(3*N)-var_parts/(mean_sqr_parts**2))**(-1)/N\n",
    "            \n",
    "            heat_cap_NVE_vec[i,j] = np.mean(Cv_parts)\n",
    "            std_Cv[i,j] = np.std(Cv_parts)\n",
    "            \n",
    "            print(j, end = \" \")\n",
    "    return heat_cap_NVE_vec, std_Cv"
   ]
  },
  {
   "cell_type": "markdown",
   "metadata": {
    "collapsed": true
   },
   "source": [
    "<h3>Blocking Method</h3>"
   ]
  },
  {
   "cell_type": "markdown",
   "metadata": {
    "collapsed": true
   },
   "source": [
    "Split in blocks, find mean of separate blocks. Use these blocks to find standard deviation."
   ]
  },
  {
   "cell_type": "code",
   "execution_count": 11,
   "metadata": {
    "collapsed": true
   },
   "outputs": [],
   "source": [
    "def comp_std_mean(data, correlationtime):\n",
    "    data_parts = np.reshape(data,(correlationtime,(len(data)-len(data)%correlationtime)/correlationtime))\n",
    "    parts = np.mean(data_parts,1)\n",
    "    \n",
    "    # mean  of data\n",
    "    mean_data = np.mean(parts)\n",
    "    \n",
    "    # standard deviation\n",
    "    std_data = np.std(parts)\n",
    "    \n",
    "    return mean_data, std_data"
   ]
  },
  {
   "cell_type": "markdown",
   "metadata": {},
   "source": [
    "<h3>Pressure</h3>"
   ]
  },
  {
   "cell_type": "markdown",
   "metadata": {},
   "source": [
    "Determines the pressure in the system for a set of temperatures and unit cell sizes using the formula given by the virial theorem and using the correction term caused by the cut-off distance. Where we take $g(r)$ approximately 1 for larger distances.<br>\n",
    "$$ P = \\frac{NT}{V} - \\frac{1}{3V} \\left\\langle \\sum_i \\sum_{j<i} r_{ij} \\frac{\\partial U_{LJ}}{\\partial r_{ij}} \\right\\rangle_{cutoff} - \\left(\\frac{N}{V}\\right)^2 \\frac{2\\pi}{3} \\int_{r_{cutoff}}^{\\infty} r^3 \\frac{\\partial U_{LJ}}{\\partial r_{ij}} g(r) dr $$"
   ]
  },
  {
   "cell_type": "code",
   "execution_count": 12,
   "metadata": {
    "collapsed": true
   },
   "outputs": [],
   "source": [
    "def compPressure(N,T_array,density_array,r_cut,noCutoff,dt,nsteps,neq):\n",
    "    \n",
    "    pressure = [np.zeros([len(density_array[0]), nsteps-neq]),\n",
    "                np.zeros([len(density_array[1]), nsteps-neq]),\n",
    "                np.zeros([len(density_array[2]), nsteps-neq])]\n",
    "    meanPressure = [np.zeros(len(density_array[0])),\n",
    "                    np.zeros(len(density_array[1])),\n",
    "                    np.zeros(len(density_array[2]))]\n",
    "    std = [np.zeros(len(density_array[0])), \n",
    "           np.zeros(len(density_array[1])), \n",
    "           np.zeros(len(density_array[2]))]\n",
    "    \n",
    "    M = 1                  # Number of unit cells in one direction\n",
    "    while (4*(M**3)) < N:\n",
    "        M += 1\n",
    "    \n",
    "    for temp in range(len(T_array)):\n",
    "        for dens in range(len(density_array[temp])):\n",
    "            density = density_array[temp][dens]\n",
    "\n",
    "            a = (4/density)**(1/3)\n",
    "            T = T_array[temp]\n",
    "            L_box = M*a\n",
    "            \n",
    "            # Extracts the sum over all pairs\n",
    "            pressureCoeff = simulate(N,T,a,r_cut,noCutoff,dt,nsteps,neq=neq,compPressure=True,constantT=True)[2]\n",
    "            \n",
    "            # The integral part for r is larger than the cutoff\n",
    "            pzero = ((N/L_box**3)**2)*np.pi*(8/3)*(-1/(3*r_cut**9)+1/(r_cut**3))\n",
    "            \n",
    "            #Computes the pressure and uses the blocking method function\n",
    "            pressure[temp][dens][:] = (N/L_box**3)*T - (1/(3*L_box**3))*pressureCoeff[neq:nsteps] - pzero  \n",
    "            meanPressure[temp][dens], std[temp][dens] = comp_std_mean(pressure[temp][dens][:], 100)\n",
    "            \n",
    "            print(dens, end = \" \")\n",
    "    \n",
    "    return meanPressure, std"
   ]
  },
  {
   "cell_type": "markdown",
   "metadata": {},
   "source": [
    "<h3>Square Displacement</h3>"
   ]
  },
  {
   "cell_type": "markdown",
   "metadata": {},
   "source": [
    "Simulation for determining the mean square displacement."
   ]
  },
  {
   "cell_type": "code",
   "execution_count": 13,
   "metadata": {
    "collapsed": true
   },
   "outputs": [],
   "source": [
    "def sqrdisplacement(N,T,a,r_cut,noCutoff,dt,steps_vector,neq):\n",
    "    \n",
    "    # Number of unit cells\n",
    "    M = 1                  # Number of unit cell in one direction\n",
    "    while (4*(M**3)) < N:\n",
    "        M += 1\n",
    "    L_box = M*a            # Length of sides of box\n",
    "    if r_cut > L_box:\n",
    "        r_cut = 2*L_box/(2**(1/3))\n",
    "    \n",
    "    [r_0, p_0] = initializeRP(N,M,T,a)\n",
    "    \n",
    "    force = computeForce(r_0,N,L_box)[0]\n",
    "    \n",
    "    for i in range(neq):\n",
    "        # Verlet applied to position of particle and first part of momentum\n",
    "        p_0 += (dt/2)*force\n",
    "        r_0 += p_0*dt\n",
    "        r_0 = r_0 % L_box #Places particles back into box\n",
    "        \n",
    "        # Compute new force\n",
    "        force = computeForce(r_0,N,L_box)[0]\n",
    "        \n",
    "        # Second part of momentum, using Verlet\n",
    "        p_0 += 0.5*force*dt\n",
    "        if (i%20 == 0):\n",
    "            p_0 = p_0 * (((N-1)*3*T)/ np.sum(p_0*p_0))**(1/2)\n",
    "            \n",
    "            \n",
    "    # Correct for drift of center of mass\n",
    "    vCM = np.sum(p_0,0)/N                        # Velocity of center of mass\n",
    "    p_0 -= vCM\n",
    "    \n",
    "    p_temp = p_0\n",
    "    r_temp = r_0\n",
    "    r_trav = np.zeros((N,3))\n",
    "    r_diff = np.zeros([steps_vector[1]+1,N,3])\n",
    "    r_diff[0,:,:] = r_trav\n",
    "    for k in range(steps_vector[1]):\n",
    "        for i in range(steps_vector[0]):\n",
    "            # Verlet applied to position of particle and first part of momentum\n",
    "            p_temp += 0.5*force*dt\n",
    "            r_temp += p_temp*dt\n",
    "            r_trav += p_temp*dt\n",
    "            r_temp = r_temp % L_box #Places particles back into box\n",
    "            \n",
    "            # Compute new force\n",
    "            force = computeForce(r_temp,N,L_box)[0]\n",
    "            \n",
    "            # Second part of momentum, using Verlet\n",
    "            p_temp += 0.5*force*dt\n",
    "            \n",
    "        r_diff[k+1,:,:] = r_trav\n",
    "        \n",
    "    r_mean = np.mean(np.sum(r_diff*r_diff,2),1)\n",
    "    time = np.linspace(0,steps_vector[1]*steps_vector[0],steps_vector[1]+1)\n",
    "    \n",
    "    return r_mean, time"
   ]
  },
  {
   "cell_type": "markdown",
   "metadata": {},
   "source": [
    "<h1>Several simulations</h1>"
   ]
  },
  {
   "cell_type": "markdown",
   "metadata": {},
   "source": [
    "Make sure that the essential functions have been defined. If a specific function is needed for a task also make sure that that function has been defined. Most simulations have short vectors and runtimes to allow for a quick and simple run. In order to retrieve higher quality data these will need to be adjusted. For the time intensive simulations a load command has been included to plot the data retrieved at an earlier time."
   ]
  },
  {
   "cell_type": "markdown",
   "metadata": {},
   "source": [
    "<h3>Sim 1: Microcanonical ensemble</h3>"
   ]
  },
  {
   "cell_type": "markdown",
   "metadata": {},
   "source": [
    "A simulation of a microcanonical ensemble. The number of particles, the volume, and the energy are kept constant."
   ]
  },
  {
   "cell_type": "code",
   "execution_count": 14,
   "metadata": {
    "collapsed": false
   },
   "outputs": [],
   "source": [
    "T = 2           # Temperature. T = (temperature in Kelvin) / 119.8 \n",
    "nsteps = 2000   # Number of timesteps\n",
    "\n",
    "#System size\n",
    "N = 864         # Number of particles\n",
    "a = 2           # Unit cell size"
   ]
  },
  {
   "cell_type": "code",
   "execution_count": 15,
   "metadata": {
    "collapsed": false
   },
   "outputs": [
    {
     "data": {
      "image/png": "[encoded data removed]",
      "text/plain": [
       "<matplotlib.figure.Figure at 0x7e2eac8>"
      ]
     },
     "metadata": {},
     "output_type": "display_data"
    }
   ],
   "source": [
    "[r, p] = simulate(N,T,a,r_cut,noCutoff,dt,nsteps,energyPlot=True)"
   ]
  },
  {
   "cell_type": "markdown",
   "metadata": {
    "collapsed": false
   },
   "source": [
    "<h3>Sim 2: Canonical Ensemble</h3>"
   ]
  },
  {
   "cell_type": "markdown",
   "metadata": {},
   "source": [
    "A simulation of a canonical ensemble. The number of particles, the volume, and the temperature are kept constant."
   ]
  },
  {
   "cell_type": "code",
   "execution_count": 16,
   "metadata": {
    "collapsed": false
   },
   "outputs": [],
   "source": [
    "T = 1.5           # Temperature. T = (temperature in Kelvin) / 119.8 \n",
    "nsteps = 1000   # Number of timesteps\n",
    "\n",
    "#System size\n",
    "N = 864         # Number of particles\n",
    "a = 2           # Unit cell size"
   ]
  },
  {
   "cell_type": "code",
   "execution_count": 17,
   "metadata": {
    "collapsed": false
   },
   "outputs": [
    {
     "data": {
      "image/png": "[encoded data removed]",
      "text/plain": [
       "<matplotlib.figure.Figure at 0x9a69390>"
      ]
     },
     "metadata": {},
     "output_type": "display_data"
    }
   ],
   "source": [
    "[r, p] = simulate(N,T,a,r_cut,noCutoff,dt,nsteps,energyPlot=True,constantT=True)"
   ]
  },
  {
   "cell_type": "markdown",
   "metadata": {
    "collapsed": false
   },
   "source": [
    "<h3>Sim 3: The correlation function</h3>"
   ]
  },
  {
   "cell_type": "markdown",
   "metadata": {},
   "source": [
    "Determine the correlation function of a specific system."
   ]
  },
  {
   "cell_type": "code",
   "execution_count": 18,
   "metadata": {
    "collapsed": false
   },
   "outputs": [],
   "source": [
    "T = 1           # Temperature. T = (temperature in Kelvin) / 119.8 \n",
    "nsteps = 1000   # Number of timesteps\n",
    "\n",
    "#System size\n",
    "N = 2048        # Number of particles\n",
    "a = 1.43         # Unit cell size"
   ]
  },
  {
   "cell_type": "code",
   "execution_count": 19,
   "metadata": {
    "collapsed": false
   },
   "outputs": [],
   "source": [
    "r = simulate(N,T,a,r_cut,noCutoff,dt,nsteps)[0];"
   ]
  },
  {
   "cell_type": "code",
   "execution_count": 20,
   "metadata": {
    "collapsed": false
   },
   "outputs": [],
   "source": [
    "nbins = 1600\n",
    "\n",
    "[Cor_func, Center] = Correlation_function(r,nbins)\n",
    "\n",
    "#np.save('.\\Data\\corfunc', Cor_func)\n",
    "#np.save('.\\Data\\corfunc', Center)"
   ]
  },
  {
   "cell_type": "code",
   "execution_count": 21,
   "metadata": {
    "collapsed": false
   },
   "outputs": [
    {
     "data": {
      "image/png": "[encoded data removed]",
      "text/plain": [
       "<matplotlib.figure.Figure at 0x85b54e0>"
      ]
     },
     "metadata": {},
     "output_type": "display_data"
    }
   ],
   "source": [
    "plt.figure()\n",
    "plt.plot(Center, Cor_func)\n",
    "plt.xlabel(r'$r (\\sigma)$')\n",
    "plt.ylabel(r'$g(r)$')\n",
    "#plt.savefig('.\\Figures\\Cor_func')\n",
    "plt.show()"
   ]
  },
  {
   "cell_type": "markdown",
   "metadata": {
    "collapsed": false
   },
   "source": [
    "<h3>Sim 4: Pressure of a gas</h3>"
   ]
  },
  {
   "cell_type": "markdown",
   "metadata": {},
   "source": [
    "Using the virial theorem we compute the pressure of the gas."
   ]
  },
  {
   "cell_type": "code",
   "execution_count": 22,
   "metadata": {
    "collapsed": false
   },
   "outputs": [],
   "source": [
    "density_array = [np.linspace(0.7, 1.3, 5), np.linspace(0.2, 1.2, 5), np.linspace(0.2, 0.9, 5)]\n",
    "T_array = np.array([1, 1.35, 2.7])\n",
    "\n",
    "neq = 500       # equilibrium point\n",
    "nsteps = 2500   # Number of timesteps\n",
    "\n",
    "#System size\n",
    "N = 864         # Number of particles"
   ]
  },
  {
   "cell_type": "code",
   "execution_count": 23,
   "metadata": {
    "collapsed": false
   },
   "outputs": [
    {
     "name": "stdout",
     "output_type": "stream",
     "text": [
      "0 1 2 3 4 0 1 2 3 4 0 1 2 3 4 "
     ]
    }
   ],
   "source": [
    "[meanPressure, std] = compPressure(N,T_array,density_array,r_cut,noCutoff,dt,nsteps,neq)\n",
    "\n",
    "#Saving data\n",
    "#np.save('.\\Data\\meanPressure', meanPressure)\n",
    "#np.save('.\\Data\\stdPressure', std)  "
   ]
  },
  {
   "cell_type": "code",
   "execution_count": 24,
   "metadata": {
    "collapsed": false
   },
   "outputs": [
    {
     "data": {
      "image/png": "[encoded data removed]",
      "text/plain": [
       "<matplotlib.figure.Figure at 0x9891208>"
      ]
     },
     "metadata": {},
     "output_type": "display_data"
    }
   ],
   "source": [
    "plt.figure()\n",
    "plt.errorbar(density_array[0],meanPressure[0][:]/T_array[0], yerr=std[0][:])\n",
    "plt.errorbar(density_array[1],meanPressure[1][:]/T_array[1], yerr=std[1][:])\n",
    "plt.errorbar(density_array[2],meanPressure[2][:]/T_array[2], yerr=std[2][:])\n",
    "plt.legend(['T = %.2f' %(T_array[0]), 'T = %.2f' %(T_array[1]), 'T = %.2f' %(T_array[2])], loc = 2)\n",
    "plt.xlabel(r'$\\rho (\\sigma^{-3})$')\n",
    "plt.ylabel(r'$\\beta P (\\sigma^{-3})$')\n",
    "plt.savefig('.\\Figures\\Pressure_vs_Density_14.png')\n",
    "plt.show()"
   ]
  },
  {
   "cell_type": "markdown",
   "metadata": {},
   "source": [
    "Plotting some saved data"
   ]
  },
  {
   "cell_type": "code",
   "execution_count": 25,
   "metadata": {
    "collapsed": false
   },
   "outputs": [],
   "source": [
    "meanPressure = np.load('.\\Data\\meanPressure_14.npy')\n",
    "std = np.load('.\\Data\\stdPressure_14.npy') \n",
    "density_array = [np.linspace(0.8, 1.2, 20), np.linspace(0.1, 1.2, 20), np.linspace(0.1, 1.0, 20)]\n",
    "T_array = np.array([1, 1.35, 2.7])"
   ]
  },
  {
   "cell_type": "code",
   "execution_count": 26,
   "metadata": {
    "collapsed": false
   },
   "outputs": [
    {
     "data": {
      "image/png": "[encoded data removed]",
      "text/plain": [
       "<matplotlib.figure.Figure at 0x857d198>"
      ]
     },
     "metadata": {},
     "output_type": "display_data"
    }
   ],
   "source": [
    "plt.figure()\n",
    "plt.errorbar(density_array[0],meanPressure[0][:]/T_array[0], yerr=std[0][:])\n",
    "plt.errorbar(density_array[1],meanPressure[1][:]/T_array[1], yerr=std[1][:])\n",
    "plt.errorbar(density_array[2],meanPressure[2][:]/T_array[2], yerr=std[2][:])\n",
    "plt.legend(['T = %.2f' %(T_array[0]), 'T = %.2f' %(T_array[1]), 'T = %.2f' %(T_array[2])], loc = 2)\n",
    "plt.xlabel(r'$\\rho (\\sigma^{-3})$')\n",
    "plt.ylabel(r'$\\beta P (\\sigma^{-3})$')\n",
    "#plt.savefig('.\\Figures\\Pressure_vs_Density_14.png')\n",
    "plt.show()"
   ]
  },
  {
   "cell_type": "markdown",
   "metadata": {
    "collapsed": false
   },
   "source": [
    "<h3>Sim 5: Heat capacity NVT and NVE</h3>"
   ]
  },
  {
   "cell_type": "markdown",
   "metadata": {},
   "source": [
    "Computing the heat capacity for a microcanonical system."
   ]
  },
  {
   "cell_type": "code",
   "execution_count": 27,
   "metadata": {
    "collapsed": false
   },
   "outputs": [],
   "source": [
    "T_vector = np.linspace(1.5,5,10)   # Temperature. T = (temperature in Kelvin) / 119.8 \n",
    "a_vector = np.array([1.43, 2.0, 2.8])  # Unit cell size\n",
    "density_vector = 4/(a_vector**3)\n",
    "N = 864                             # Number of particles\n",
    "nsteps = 10000\n",
    "nequi = 1000"
   ]
  },
  {
   "cell_type": "code",
   "execution_count": 28,
   "metadata": {
    "collapsed": false
   },
   "outputs": [
    {
     "name": "stdout",
     "output_type": "stream",
     "text": [
      "0 1 2 3 4 5 6 7 8 9 0 1 2 3 4 5 6 7 8 9 0 1 2 3 4 5 6 7 8 9 "
     ]
    }
   ],
   "source": [
    "[Cv, Cv_std] = Heat_capacity_NVE(N,T_vector,a_vector,r_cut,noCutoff,dt,nsteps,nequi)"
   ]
  },
  {
   "cell_type": "code",
   "execution_count": 29,
   "metadata": {
    "collapsed": false
   },
   "outputs": [
    {
     "data": {
      "image/png": "[encoded data removed]",
      "text/plain": [
       "<matplotlib.figure.Figure at 0x8508d68>"
      ]
     },
     "metadata": {},
     "output_type": "display_data"
    }
   ],
   "source": [
    "#Saving data\n",
    "#np.save('.\\Data\\Cv, Cv) \n",
    "#np.save('.\\Data\\Cv_std', Cv_std)\n",
    "\n",
    "plt.figure()\n",
    "plt.errorbar(T_vector,Cv[0,:], yerr=Cv_std[0,:])\n",
    "plt.errorbar(T_vector,Cv[1,:], yerr=Cv_std[1,:])\n",
    "plt.errorbar(T_vector,Cv[2,:], yerr=Cv_std[2,:])\n",
    "plt.legend(['a = 1.43', 'a = 2.0','a = 2.8'], loc = 3)\n",
    "plt.xlabel(r'Temp $T$')\n",
    "plt.ylabel(r'$C_v$')\n",
    "#plt.savefig('.\\Figures\\Heat_cap.png')\n",
    "plt.show()"
   ]
  },
  {
   "cell_type": "code",
   "execution_count": 30,
   "metadata": {
    "collapsed": false
   },
   "outputs": [
    {
     "data": {
      "image/png": "[encoded data removed]",
      "text/plain": [
       "<matplotlib.figure.Figure at 0x9823a90>"
      ]
     },
     "metadata": {},
     "output_type": "display_data"
    }
   ],
   "source": [
    "Cv_10 = np.load('.\\Data\\Cv_block_10.npy')\n",
    "std_10 = np.load('.\\Data\\Cv_block_std_10.npy')\n",
    "\n",
    "T_vector10 = np.linspace(0.5,10,20)\n",
    "\n",
    "plt.figure()\n",
    "plt.errorbar(T_vector10[:],Cv_10[0,:], yerr=std_10[0,:])\n",
    "plt.errorbar(T_vector10[2:],Cv_10[1,2:], yerr=std_10[1,2:])\n",
    "plt.errorbar(T_vector10[2:],Cv_10[2,2:], yerr=std_10[2,2:])\n",
    "plt.legend(['a = 1.43', 'a = 2.0','a = 2.8'], loc = 1)\n",
    "plt.xlabel(r'$T (\\epsilon /k_{B})$')\n",
    "plt.ylabel(r'$C_v (1/k_{B})$')\n",
    "#plt.savefig('.\\Figures\\Heat_cap_10.png')\n",
    "plt.show()"
   ]
  },
  {
   "cell_type": "markdown",
   "metadata": {},
   "source": [
    "The same but for a microcanonical system."
   ]
  },
  {
   "cell_type": "code",
   "execution_count": 31,
   "metadata": {
    "collapsed": false
   },
   "outputs": [],
   "source": [
    "T_vector = np.linspace(1,10,10)   # Temperature. T = (temperature in Kelvin) / 119.8 \n",
    "a_vector = np.array([1.43, 2.0, 2.8])  # Unit cell size\n",
    "density_vector = 4/(a_vector**3)\n",
    "\n",
    "N = 864                            # Number of particles\n",
    "nsteps = 10000\n",
    "neq = 1000"
   ]
  },
  {
   "cell_type": "code",
   "execution_count": 32,
   "metadata": {
    "collapsed": false
   },
   "outputs": [
    {
     "name": "stdout",
     "output_type": "stream",
     "text": [
      "0 1 2 3 4 5 6 7 8 9 0 1 2 3 4 5 6 7 8 9 0 1 2 3 4 5 6 7 8 9 "
     ]
    }
   ],
   "source": [
    "[CvT, Cv_stdT] = Heat_capacity_NVT(N,T_vector,a_vector,r_cut,noCutoff,dt,nsteps,neq)"
   ]
  },
  {
   "cell_type": "code",
   "execution_count": 34,
   "metadata": {
    "collapsed": false
   },
   "outputs": [
    {
     "data": {
      "image/png": "[encoded data removed]",
      "text/plain": [
       "<matplotlib.figure.Figure at 0x8616f60>"
      ]
     },
     "metadata": {},
     "output_type": "display_data"
    }
   ],
   "source": [
    "#Saving data\n",
    "#np.save('.\\Data\\CvT', CvT) \n",
    "#np.save('.\\Data\\CvT_std', Cv_stdT)\n",
    "\n",
    "plt.figure()\n",
    "plt.errorbar(T_vector,CvT[0,:], yerr=Cv_stdT[0,:])\n",
    "plt.errorbar(T_vector,CvT[1,:], yerr=Cv_stdT[1,:])\n",
    "plt.errorbar(T_vector,CvT[2,:], yerr=Cv_stdT[2,:])\n",
    "plt.ylim([0,1.7])\n",
    "plt.legend(['a = 1.43','a = 2.0', 'a = 2.8'], loc = 4)\n",
    "plt.xlabel(r'Temp $T$')\n",
    "plt.ylabel(r'$C_v$')\n",
    "#plt.savefig('.\\Figures\\Heat_capT.png')\n",
    "plt.show()"
   ]
  },
  {
   "cell_type": "markdown",
   "metadata": {
    "collapsed": true
   },
   "source": [
    "<h3>Sim 6: Mean square displacement</h3>"
   ]
  },
  {
   "cell_type": "code",
   "execution_count": 40,
   "metadata": {
    "collapsed": false
   },
   "outputs": [],
   "source": [
    "T = 2.5           # Temperature. T = (temperature in Kelvin) / 119.8 \n",
    "a = 2             # Unit cell size\n",
    "steps = [20, 50]  # [stepsize, number of steps]\n",
    "N = 864           # Number of particles\n",
    "neq = 1000        # Equilibrium time"
   ]
  },
  {
   "cell_type": "code",
   "execution_count": 41,
   "metadata": {
    "collapsed": false
   },
   "outputs": [],
   "source": [
    "[r_mean, time] = sqrdisplacement(N,T,a,r_cut,noCutoff,dt,steps,neq)\n",
    "time = time*dt"
   ]
  },
  {
   "cell_type": "code",
   "execution_count": 42,
   "metadata": {
    "collapsed": false
   },
   "outputs": [],
   "source": [
    "fitcoeff, fitcov = np.polyfit(time,r_mean,1,full=False,cov=True)\n",
    "\n",
    "y = fitcoeff[0]*time + fitcoeff[1]"
   ]
  },
  {
   "cell_type": "code",
   "execution_count": 43,
   "metadata": {
    "collapsed": false
   },
   "outputs": [
    {
     "data": {
      "image/png": "[encoded data removed]",
      "text/plain": [
       "<matplotlib.figure.Figure at 0x9781748>"
      ]
     },
     "metadata": {},
     "output_type": "display_data"
    }
   ],
   "source": [
    "#np.save('.\\Data\\meansqr_gas_smallt_N=864',r_mean)\n",
    "#np.save('.\\Data\\meansqr_gas_smallt_N=864',time)\n",
    "#np.save('.\\Data\\meansqr_gas_smallt_N=864',np.array([fitcoeff[0], fitcov[0,0]]))\n",
    "\n",
    "plt.figure()\n",
    "plt.plot(time,r_mean)\n",
    "plt.plot(time,y)\n",
    "plt.xlabel(r'time ($\\tau$)')\n",
    "plt.ylabel(r'$\\langle x^2 \\rangle $ ($\\sigma$)')\n",
    "plt.legend(['Data', 'Fit'],loc=2)\n",
    "#plt.savefig('.\\Figures\\meansqr_N=864.png')\n",
    "plt.show()"
   ]
  },
  {
   "cell_type": "code",
   "execution_count": null,
   "metadata": {
    "collapsed": true
   },
   "outputs": [],
   "source": []
  }
 ],
 "metadata": {
  "kernelspec": {
   "display_name": "Python 3",
   "language": "python",
   "name": "python3"
  },
  "language_info": {
   "codemirror_mode": {
    "name": "ipython",
    "version": 3
   },
   "file_extension": ".py",
   "mimetype": "text/x-python",
   "name": "python",
   "nbconvert_exporter": "python",
   "pygments_lexer": "ipython3",
   "version": "3.5.1"
  }
 },
 "nbformat": 4,
 "nbformat_minor": 0
}
