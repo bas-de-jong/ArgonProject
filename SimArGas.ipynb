{
 "cells": [
  {
   "cell_type": "markdown",
   "metadata": {},
   "source": [
    "# Simulating Argon Gas"
   ]
  },
  {
   "cell_type": "markdown",
   "metadata": {},
   "source": [
    "This program simulates an Argon Gas."
   ]
  },
  {
   "cell_type": "markdown",
   "metadata": {},
   "source": [
    "## Importing packages"
   ]
  },
  {
   "cell_type": "markdown",
   "metadata": {},
   "source": [
    "Importing the needed packages:"
   ]
  },
  {
   "cell_type": "code",
   "execution_count": 1,
   "metadata": {
    "collapsed": false
   },
   "outputs": [],
   "source": [
    "import numpy as np\n",
    "import math\n",
    "import matplotlib.pyplot as plt\n",
    "from numba import jit\n",
    "%matplotlib inline"
   ]
  },
  {
   "cell_type": "markdown",
   "metadata": {},
   "source": [
    "## Initialization"
   ]
  },
  {
   "cell_type": "markdown",
   "metadata": {},
   "source": [
    "Initializes the needed variables. These are: <br>\n",
    "N, the number of particles <br>\n",
    "T, the temperature. <br>\n",
    "m, the mass of a Argon particle <br>\n",
    "rho, the density of the gas <br>\n",
    "sigma, the interaction radius <br>\n",
    "epsilon, the interaction strength <br>\n",
    "h, timestep of the simulation <br>\n",
    "<br>\n",
    "The needed variables for each of N particles: position r, momentum p, and force f. These all have 3 components, in the x-, y-, and z-direction."
   ]
  },
  {
   "cell_type": "markdown",
   "metadata": {},
   "source": [
    "Now we define a function to set the positions according to a braivais-fcc lattice."
   ]
  },
  {
   "cell_type": "code",
   "execution_count": 2,
   "metadata": {
    "collapsed": true
   },
   "outputs": [],
   "source": [
    "@jit\n",
    "def initPositions(r,N,rho):\n",
    "    \n",
    "    #Compute lenght of sides of cube with volume V=N/rho\n",
    "    L = (N/rho) ** (1/3)\n",
    "    \n",
    "    #Compute laticce constant a that fits all N atoms into V\n",
    "    K = 1                                                             #Number of unit cell in one direction\n",
    "    while (4 * (K ** 3)) < N:\n",
    "        K += 1\n",
    "    a = L/K\n",
    "    \n",
    "    #Set position particles in unit cell\n",
    "    unit_cell = np.array([[0.0, 0.0, 0.0],[0.5*a, 0.5*a, 0.0],[0.5*a, 0.0, 0.5*a],[0.0, 0.5*a, 0.5*a]])\n",
    "    \n",
    "    #Place particles on the lattice until N = 4K^3\n",
    "    n=0                                                               #Number of particles placed in lattice\n",
    "    for i in range(K):\n",
    "        for j in range(K):\n",
    "            for k in range(K):\n",
    "                for l in range(4):\n",
    "                    if n<N:\n",
    "                        r[n,0] = unit_cell[l,0]+i*a\n",
    "                        r[n,1] = unit_cell[l,1]+j*a\n",
    "                        r[n,2] = unit_cell[l,2]+k*a\n",
    "                        n += 1\n",
    "    return r"
   ]
  },
  {
   "cell_type": "markdown",
   "metadata": {},
   "source": [
    "The momenta according to a Maxwell-Boltzmann distribution, keeping in mind that the particles can have negative velocities along the x-, y-, and z-direction. Subsequently the drift of the center of mass of the particles is shifted to zero and v is scaled to  force the desired temperature upon the gas. We define a function to do so."
   ]
  },
  {
   "cell_type": "code",
   "execution_count": 3,
   "metadata": {
    "collapsed": true
   },
   "outputs": [],
   "source": [
    "@jit\n",
    "def initMomentum(p,N,T):\n",
    "    \n",
    "    #Set the variance of the Gaussian distribution to k*T/m\n",
    "    sigma = np.sqrt(kb*T*m)\n",
    "    mu = 0\n",
    "    \n",
    "    #Assign momentum components to all particles\n",
    "    for n in range(N):\n",
    "        p[n,0] = np.random.normal(mu,sigma,1)\n",
    "        p[n,1] = np.random.normal(mu,sigma,1)\n",
    "        p[n,2] = np.random.normal(mu,sigma,1)\n",
    "            \n",
    "    #Correct for drift of center of mass\n",
    "    vCM = sum(p)/(N*m)                                         #Velocity of center of mass\n",
    "    p[:,:] = p[:,:]-vCM*m\n",
    "    \n",
    "    return p"
   ]
  },
  {
   "cell_type": "markdown",
   "metadata": {},
   "source": [
    "## Functions for Simulation"
   ]
  },
  {
   "cell_type": "markdown",
   "metadata": {},
   "source": [
    "We start by defining a function to compute the forces on all particles. To do this we use Lennard-Jones potential for interaction and periodic boundary conditions. The boundary conditions require us to use the minimum image convention."
   ]
  },
  {
   "cell_type": "code",
   "execution_count": 4,
   "metadata": {
    "collapsed": false
   },
   "outputs": [],
   "source": [
    "@jit\n",
    "def computeForces(r,N,sigma,epsilon):\n",
    "    L = (N/rho) ** (1/3)\n",
    "    f = np.zeros((N,3))\n",
    "    \n",
    "    #Compute the distance between all particles\n",
    "    for i in range(N-1):\n",
    "        for j in range((i+1),N):\n",
    "            rij = np.zeros(3)\n",
    "            rij[0] = r[i,0]-r[j,0]\n",
    "            rij[1] = r[i,1]-r[j,1]\n",
    "            rij[2] = r[i,2]-r[j,2]\n",
    "            \n",
    "            #Apply minimum image convention\n",
    "            if rij[0] > 0.5*L:\n",
    "                if rij[0] > 0:\n",
    "                    rij[0] -= L\n",
    "                else:\n",
    "                    rij[0] += L\n",
    "                    \n",
    "            if rij[1] > 0.5*L:\n",
    "                if rij[1] > 0:\n",
    "                    rij[1] -= L\n",
    "                else:\n",
    "                    rij[1] += L\n",
    "                    \n",
    "            if rij[2] > 0.5*L:\n",
    "                if rij[2] > 0:\n",
    "                    rij[2] -= L\n",
    "                else:\n",
    "                    rij[2] += L\n",
    "              \n",
    "            #Calculating the force of pair ij\n",
    "            rabs = (rij[0] ** 2 + rij[1] ** 2 + rij[2] ** 2)          #Absolute distance between pairs\n",
    "            famp = 24*(epsilon/sigma)*(2*(sigma/rabs)**7 -(sigma/rabs)**4)\n",
    "            \n",
    "            f[i,0] += rij[0]*famp\n",
    "            f[j,0] -= rij[0]*famp\n",
    "            \n",
    "            f[i,1] += rij[1]*famp\n",
    "            f[j,1] -= rij[1]*famp\n",
    "            \n",
    "            f[i,2] += rij[2]*famp\n",
    "            f[j,2] -= rij[2]*famp\n",
    "                \n",
    "    return f   "
   ]
  },
  {
   "cell_type": "code",
   "execution_count": 5,
   "metadata": {
    "collapsed": true
   },
   "outputs": [],
   "source": [
    "@jit\n",
    "def computePotential(r,N,sigma,epsilon):\n",
    "    L = (N/rho) ** (1/3)\n",
    "    potential = np.zeros(N)\n",
    "    \n",
    "    #Compute the distance between all particles\n",
    "    for i in range(N-1):\n",
    "        for j in range((i+1),N):\n",
    "            rij = np.zeros(3)\n",
    "            \n",
    "            rij[0] = r[i,0]-r[j,0]\n",
    "            rij[1] = r[i,1]-r[j,1]\n",
    "            rij[2] = r[i,2]-r[j,2]\n",
    "            \n",
    "            #Apply minimum image convention\n",
    "            if rij[0] > 0.5*L:\n",
    "                if rij[0] > 0:\n",
    "                    rij[0] -= L\n",
    "                else:\n",
    "                    rij[0] += L\n",
    "                    \n",
    "            if rij[1] > 0.5*L:\n",
    "                if rij[1] > 0:\n",
    "                    rij[1] -= L\n",
    "                else:\n",
    "                    rij[1] += L\n",
    "                    \n",
    "            if rij[2] > 0.5*L:\n",
    "                if rij[2] > 0:\n",
    "                    rij[2] -= L\n",
    "                else:\n",
    "                    rij[2] += L\n",
    "                        \n",
    "            #Calculating the potential energy of each particle\n",
    "            rabs = (rij[0] ** 2 + rij[1] ** 2 + rij[2] ** 2) ** (1/2)           #Absolute distance between pairs\n",
    "            potential[i] += epsilon*((sigma/rabs)**12 -2*(sigma/rabs)**6)\n",
    "            potential[j] += epsilon*((sigma/rabs)**12 -2*(sigma/rabs)**6)\n",
    "                \n",
    "    return potential  "
   ]
  },
  {
   "cell_type": "markdown",
   "metadata": {},
   "source": [
    "We define a function which executes the Verlet algorithm to find the new position r and momentum p of each particle at a later time t+h."
   ]
  },
  {
   "cell_type": "code",
   "execution_count": 6,
   "metadata": {
    "collapsed": false
   },
   "outputs": [],
   "source": [
    "@jit\n",
    "def computeTimeStep(r,p,rho,N):\n",
    "    L = (N/rho) ** (1/3)\n",
    "    \n",
    "    f = computeForces(r,N,sigma,epsilon)\n",
    "    \n",
    "    #Now we use the first equation to find the new r\n",
    "    for i in range(N):\n",
    "        p[i,0] += (1/2)*f[i,0]*h\n",
    "        p[i,1] += (1/2)*f[i,1]*h\n",
    "        p[i,2] += (1/2)*f[i,2]*h\n",
    "        \n",
    "        r[i,0] += (p[i,0]/m)*h\n",
    "        \n",
    "        if r[i,0] >= L:\n",
    "            r[i,0] -= L\n",
    "        elif r[i,0] < 0:\n",
    "            r[i,0] += L\n",
    "            \n",
    "        r[i,1] += (p[i,1]/m)*h    \n",
    "        \n",
    "        if r[i,1] >= L:\n",
    "            r[i,1] -= L\n",
    "        elif r[i,1] < 0:\n",
    "            r[i,1] += L\n",
    "            \n",
    "        r[i,2] += (p[i,2]/m)*h   \n",
    "        \n",
    "        if r[i,2] >= L:\n",
    "            r[i,2] -= L\n",
    "        elif r[i,2] < 0:\n",
    "            r[i,2] += L\n",
    "                   \n",
    "        #Compute first part of new momentum\n",
    "            \n",
    "    \n",
    "    #Update the forces to the new positions\n",
    "    f = computeForces(r,N,sigma,epsilon)\n",
    "    \n",
    "    #Compute the second part of the new momentum\n",
    "    for i in range(N):\n",
    "            p[i,0] += (1/2)*f[i,0]*h\n",
    "            p[i,1] += (1/2)*f[i,1]*h\n",
    "            p[i,2] += (1/2)*f[i,2]*h\n",
    "    \n",
    "    return r,p"
   ]
  },
  {
   "cell_type": "markdown",
   "metadata": {
    "collapsed": false
   },
   "source": [
    "## Running and plotting Simulation"
   ]
  },
  {
   "cell_type": "markdown",
   "metadata": {},
   "source": [
    "In this part we use the functions defined above to run the simulation for N particles for a certain number of timesteps. "
   ]
  },
  {
   "cell_type": "markdown",
   "metadata": {},
   "source": [
    "<h3>Initialization</h3>"
   ]
  },
  {
   "cell_type": "code",
   "execution_count": 15,
   "metadata": {
    "collapsed": false
   },
   "outputs": [],
   "source": [
    "#See page 186 of Computational Physics\n",
    "\n",
    "#Standard Units:\n",
    "m = 1                               #Mass of Argon atom is unitary\n",
    "sigma = 1                           #Potential minimum is unit of length\n",
    "epsilon = 1                         #Unit of energy\n",
    "tau = (m*(sigma**2)/epsilon)**(1/2) #Tau is unit of time\n",
    "\n",
    "# epsilon/kb = 119.8 K and sigma = 3.822 A for Argon\n",
    "kb = epsilon/119.8\n",
    "\n",
    "N = 108                 #Number of particles\n",
    "T = 110                 #Temperature of gas ~ 119.8 K\n",
    "rho = 1                 #Density of gas\n",
    "h = 0.0004*tau          #Size of timestep\n",
    "steps = 1000            #Number of timesteps\n",
    "\n",
    "p = np.zeros((N,3))     #Momenta of particles\n",
    "r = np.zeros((N,3))     #Positions of particles\n",
    "f = np.zeros((N,3))     #Forces on particles\n",
    "potential = np.zeros(N) #Potential energy of particles\n",
    "\n",
    "r = initPositions(r,N,rho);\n",
    "p = initMomentum(p,N,T);"
   ]
  },
  {
   "cell_type": "markdown",
   "metadata": {},
   "source": [
    "<h3>Simulate</h3>"
   ]
  },
  {
   "cell_type": "markdown",
   "metadata": {},
   "source": [
    "Simulate to find r and p after a time $t = h * \\text(steps)$."
   ]
  },
  {
   "cell_type": "code",
   "execution_count": 16,
   "metadata": {
    "collapsed": false,
    "scrolled": true
   },
   "outputs": [
    {
     "data": {
      "text/plain": [
       "[<matplotlib.lines.Line2D at 0x9ceb8d0>]"
      ]
     },
     "execution_count": 16,
     "metadata": {},
     "output_type": "execute_result"
    },
    {
     "data": {
      "image/png": "[encoded data removed]",
      "text/plain": [
       "<matplotlib.figure.Figure at 0x94e97b8>"
      ]
     },
     "metadata": {},
     "output_type": "display_data"
    }
   ],
   "source": [
    "t = 0\n",
    "E = np.zeros(steps)\n",
    "Ep = np.zeros(steps)\n",
    "Ek = np.zeros(steps)\n",
    "while t<steps:\n",
    "    output = computeTimeStep(r,p,rho,N)\n",
    "    r = output[0]\n",
    "    p = output[1]\n",
    "    potential = computePotential(r,N,sigma,epsilon)\n",
    "\n",
    "    for n in range(N):\n",
    "        for i in range(3):\n",
    "            Ek[t] += (1/2)*(1/m)*(p[n,i] ** 2)\n",
    "        Ep[t] += potential[n]\n",
    "    E[t] = Ep[t] + Ek[t]   \n",
    "    t += 1\n",
    "    \n",
    "plt.figure()\n",
    "plt.plot(range(steps),E)\n",
    "plt.plot(range(steps),Ep)\n",
    "plt.plot(range(steps),Ek)"
   ]
  },
  {
   "cell_type": "code",
   "execution_count": 17,
   "metadata": {
    "collapsed": false,
    "scrolled": false
   },
   "outputs": [
    {
     "data": {
      "text/plain": [
       "array([[  6.40186867e-02,   4.61057730e+00,   3.26410208e-01],\n",
       "       [  8.32864864e-01,   8.25137142e-01,   4.62947022e+00],\n",
       "       [  7.41488310e-01,   1.38829871e-02,   1.07108857e+00],\n",
       "       [  5.71022650e-02,   9.35472759e-01,   7.19663448e-01],\n",
       "       [  2.84491379e-02,   4.74065775e+00,   1.66775743e+00],\n",
       "       [  8.02608705e-01,   8.99200005e-01,   1.55978897e+00],\n",
       "       [  7.90339734e-01,   4.71797790e-02,   2.37964848e+00],\n",
       "       [  5.59388122e-02,   8.14754964e-01,   2.35931875e+00],\n",
       "       [  4.68165659e+00,   8.17100966e-02,   3.10258459e+00],\n",
       "       [  8.66003952e-01,   7.68138642e-01,   3.11896069e+00],\n",
       "       [  8.16572168e-01,   4.70607731e+00,   3.78186703e+00],\n",
       "       [  4.64745590e+00,   6.71360680e-01,   3.96045382e+00],\n",
       "       [  2.16768111e-03,   1.56404404e+00,   4.76193397e+00],\n",
       "       [  7.59285974e-01,   2.34682372e+00,   4.74746609e+00],\n",
       "       [  8.24511446e-01,   1.59788590e+00,   8.39923448e-01],\n",
       "       [  1.75164504e-01,   2.40562021e+00,   8.81414360e-01],\n",
       "       [  4.66836721e+00,   1.59889323e+00,   1.60020944e+00],\n",
       "       [  9.05172828e-01,   2.40295405e+00,   1.60059463e+00],\n",
       "       [  8.30543727e-01,   1.57333674e+00,   2.39551431e+00],\n",
       "       [  7.31647209e-02,   2.67139439e+00,   2.12129833e+00],\n",
       "       [  5.87694682e-03,   1.63041299e+00,   3.10756968e+00],\n",
       "       [  8.69137979e-01,   2.33514145e+00,   3.18415546e+00],\n",
       "       [  8.21781968e-01,   1.52771036e+00,   3.88685978e+00],\n",
       "       [  1.88848182e-02,   2.26092159e+00,   3.90240433e+00],\n",
       "       [  5.87655217e-02,   3.22244497e+00,   4.60997908e+00],\n",
       "       [  8.06964245e-01,   3.84767051e+00,   2.58893822e-02],\n",
       "       [  9.32205436e-01,   3.21877156e+00,   8.85714797e-01],\n",
       "       [  8.57367695e-02,   3.81008049e+00,   8.22243340e-01],\n",
       "       [  4.71467872e+00,   2.97694163e+00,   1.85622938e+00],\n",
       "       [  7.01101733e-01,   3.89218254e+00,   1.69653091e+00],\n",
       "       [  8.92590633e-01,   3.10438441e+00,   2.51711796e+00],\n",
       "       [  4.65000459e+00,   3.92172553e+00,   2.53984157e+00],\n",
       "       [  4.70298003e+00,   3.03512240e+00,   3.10553114e+00],\n",
       "       [  8.80245211e-01,   4.01351162e+00,   2.99619273e+00],\n",
       "       [  7.48625574e-01,   3.23325938e+00,   3.80922786e+00],\n",
       "       [  1.69341362e-02,   3.91719219e+00,   3.79882329e+00],\n",
       "       [  1.72552576e+00,   4.34712914e-02,   4.51753061e+00],\n",
       "       [  2.42123847e+00,   9.32507895e-01,   1.53776424e-02],\n",
       "       [  2.30782009e+00,   7.15061842e-02,   8.08250157e-01],\n",
       "       [  1.60727355e+00,   8.77862761e-01,   8.13588300e-01],\n",
       "       [  1.54604813e+00,   4.76199710e+00,   1.65784787e+00],\n",
       "       [  2.29549927e+00,   8.75934052e-01,   1.53500698e+00],\n",
       "       [  2.44139826e+00,   4.73318838e+00,   2.39472866e+00],\n",
       "       [  1.65110392e+00,   7.96070122e-01,   2.32358696e+00],\n",
       "       [  1.65939551e+00,   3.52010556e-02,   3.11091717e+00],\n",
       "       [  2.45289362e+00,   8.28140461e-01,   3.10464433e+00],\n",
       "       [  2.42565459e+00,   2.15405963e-02,   3.98755833e+00],\n",
       "       [  1.65319829e+00,   8.13387380e-01,   3.85224113e+00],\n",
       "       [  1.63119875e+00,   1.54548506e+00,   2.93456970e-02],\n",
       "       [  2.35393351e+00,   2.38146452e+00,   1.35145809e-02],\n",
       "       [  2.39095690e+00,   1.61740326e+00,   9.10807609e-01],\n",
       "       [  1.57989343e+00,   2.30261841e+00,   7.39426235e-01],\n",
       "       [  1.59276357e+00,   1.66988934e+00,   1.62721817e+00],\n",
       "       [  2.34776341e+00,   2.48497349e+00,   1.59606589e+00],\n",
       "       [  2.41826067e+00,   1.49101827e+00,   2.34403870e+00],\n",
       "       [  1.66465365e+00,   2.34860078e+00,   2.41371740e+00],\n",
       "       [  1.60647920e+00,   1.58490955e+00,   3.16302190e+00],\n",
       "       [  2.41913962e+00,   2.31803028e+00,   3.18545418e+00],\n",
       "       [  2.27102758e+00,   1.58759112e+00,   3.97287747e+00],\n",
       "       [  1.54668610e+00,   2.31472087e+00,   4.01177977e+00],\n",
       "       [  1.51178330e+00,   3.09668072e+00,   4.74960184e+00],\n",
       "       [  2.21000689e+00,   4.03825742e+00,   1.76001383e-01],\n",
       "       [  2.11194260e+00,   3.18881172e+00,   7.72997991e-01],\n",
       "       [  1.45243059e+00,   4.11945562e+00,   1.07188892e+00],\n",
       "       [  1.54755858e+00,   3.13755954e+00,   1.74402542e+00],\n",
       "       [  2.43831815e+00,   3.75594175e+00,   1.60277229e+00],\n",
       "       [  2.42454994e+00,   3.16868929e+00,   2.42554387e+00],\n",
       "       [  1.71174063e+00,   3.94038355e+00,   2.38910700e+00],\n",
       "       [  1.61710005e+00,   3.13182289e+00,   3.20893959e+00],\n",
       "       [  2.27217903e+00,   4.03292944e+00,   3.19040093e+00],\n",
       "       [  2.33113868e+00,   3.14657358e+00,   3.92284977e+00],\n",
       "       [  1.59662512e+00,   4.02021245e+00,   4.00186860e+00],\n",
       "       [  3.11276853e+00,   4.71662230e+00,   4.74017725e+00],\n",
       "       [  3.96976136e+00,   8.08092498e-01,   4.73296043e+00],\n",
       "       [  4.47128148e+00,   4.70765438e+00,   7.24479063e-01],\n",
       "       [  3.20625890e+00,   1.00621435e+00,   7.65136961e-01],\n",
       "       [  3.10351466e+00,   1.08159217e-02,   1.49385258e+00],\n",
       "       [  3.90599630e+00,   7.78695823e-01,   1.46983456e+00],\n",
       "       [  3.88274340e+00,   4.75604724e+00,   2.37702495e+00],\n",
       "       [  3.22127266e+00,   8.30370143e-01,   2.31599665e+00],\n",
       "       [  3.09405226e+00,   5.57863718e-02,   3.21608197e+00],\n",
       "       [  3.85636169e+00,   6.57849603e-01,   3.14378890e+00],\n",
       "       [  3.87086858e+00,   4.11633284e-03,   3.91431301e+00],\n",
       "       [  3.08437410e+00,   8.26022376e-01,   4.02926038e+00],\n",
       "       [  3.10618220e+00,   1.69341896e+00,   4.95950754e-02],\n",
       "       [  3.92064731e+00,   2.29918421e+00,   4.62969053e+00],\n",
       "       [  4.00363449e+00,   1.62922145e+00,   7.71623155e-01],\n",
       "       [  3.25127847e+00,   2.39677897e+00,   8.28399993e-01],\n",
       "       [  3.20209413e+00,   1.68301046e+00,   1.64907566e+00],\n",
       "       [  3.95983458e+00,   2.33179076e+00,   1.67864587e+00],\n",
       "       [  3.98776946e+00,   1.55558841e+00,   2.42331684e+00],\n",
       "       [  3.16822658e+00,   2.42137796e+00,   2.39043694e+00],\n",
       "       [  3.12875223e+00,   1.60026539e+00,   3.24445976e+00],\n",
       "       [  3.99939974e+00,   2.33217497e+00,   3.18221969e+00],\n",
       "       [  3.93356372e+00,   1.48217019e+00,   3.86162379e+00],\n",
       "       [  3.06364490e+00,   2.37218237e+00,   4.04486677e+00],\n",
       "       [  3.04751060e+00,   3.28551394e+00,   4.72138675e+00],\n",
       "       [  4.04395407e+00,   3.94472876e+00,   4.59875578e+00],\n",
       "       [  4.03484545e+00,   3.07563784e+00,   7.41047456e-01],\n",
       "       [  3.20999023e+00,   4.05867038e+00,   8.35842868e-01],\n",
       "       [  3.23151098e+00,   3.19677653e+00,   1.53610533e+00],\n",
       "       [  3.83283282e+00,   4.10521178e+00,   1.66146948e+00],\n",
       "       [  3.87284857e+00,   3.17827025e+00,   2.48383776e+00],\n",
       "       [  3.11560053e+00,   4.03984820e+00,   2.32516444e+00],\n",
       "       [  3.19571091e+00,   3.10503553e+00,   3.22011171e+00],\n",
       "       [  3.92024861e+00,   3.89539938e+00,   3.22699099e+00],\n",
       "       [  3.97083985e+00,   3.14933842e+00,   3.94068903e+00],\n",
       "       [  3.12761568e+00,   3.96947931e+00,   3.96089359e+00]])"
      ]
     },
     "execution_count": 17,
     "metadata": {},
     "output_type": "execute_result"
    }
   ],
   "source": [
    "r"
   ]
  },
  {
   "cell_type": "code",
   "execution_count": null,
   "metadata": {
    "collapsed": false
   },
   "outputs": [],
   "source": []
  },
  {
   "cell_type": "code",
   "execution_count": null,
   "metadata": {
    "collapsed": true
   },
   "outputs": [],
   "source": []
  }
 ],
 "metadata": {
  "kernelspec": {
   "display_name": "Python 3",
   "language": "python",
   "name": "python3"
  },
  "language_info": {
   "codemirror_mode": {
    "name": "ipython",
    "version": 3
   },
   "file_extension": ".py",
   "mimetype": "text/x-python",
   "name": "python",
   "nbconvert_exporter": "python",
   "pygments_lexer": "ipython3",
   "version": "3.5.1"
  }
 },
 "nbformat": 4,
 "nbformat_minor": 0
}
