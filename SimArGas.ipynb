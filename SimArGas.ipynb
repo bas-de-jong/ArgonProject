{
 "cells": [
  {
   "cell_type": "markdown",
   "metadata": {},
   "source": [
    "# Simulating Argon Gas"
   ]
  },
  {
   "cell_type": "markdown",
   "metadata": {},
   "source": [
    "This program simulates an Argon Gas."
   ]
  },
  {
   "cell_type": "markdown",
   "metadata": {},
   "source": [
    "## Importing packages"
   ]
  },
  {
   "cell_type": "markdown",
   "metadata": {},
   "source": [
    "Importing the needed packages:"
   ]
  },
  {
   "cell_type": "code",
   "execution_count": 1,
   "metadata": {
    "collapsed": false
   },
   "outputs": [],
   "source": [
    "import numpy as np\n",
    "import math\n",
    "import matplotlib.pyplot as plt\n",
    "from numba import jit\n",
    "%matplotlib inline"
   ]
  },
  {
   "cell_type": "markdown",
   "metadata": {},
   "source": [
    "## Initialization"
   ]
  },
  {
   "cell_type": "markdown",
   "metadata": {},
   "source": [
    "Initializes the needed variables. These are: <br>\n",
    "N, the number of particles <br>\n",
    "T, the temperature. <br>\n",
    "m, the mass of a Argon particle <br>\n",
    "rho, the density of the gas <br>\n",
    "sigma, the interaction radius <br>\n",
    "epsilon, the interaction strength <br>\n",
    "h, timestep of the simulation <br>\n",
    "<br>\n",
    "The needed variables for each of N particles: position r, momentum p, and force f. These all have 3 components, in the x-, y-, and z-direction."
   ]
  },
  {
   "cell_type": "markdown",
   "metadata": {},
   "source": [
    "Now we define a function to set the positions according to a braivais-fcc lattice."
   ]
  },
  {
   "cell_type": "code",
   "execution_count": 2,
   "metadata": {
    "collapsed": true
   },
   "outputs": [],
   "source": [
    "@jit\n",
    "def initPositions(r,N,a):\n",
    "    \n",
    "    #Compute laticce constant a that fits all N atoms into V\n",
    "    K = 1                                                             #Number of unit cell in one direction\n",
    "    while (4 * (K ** 3)) < N:\n",
    "        K += 1\n",
    "    \n",
    "    #Set position particles in unit cell\n",
    "    unit_cell = np.array([[0.0, 0.0, 0.0],[0.5*a, 0.5*a, 0.0],[0.5*a, 0.0, 0.5*a],[0.0, 0.5*a, 0.5*a]])\n",
    "    \n",
    "    #Place particles on the lattice until N = 4K^3\n",
    "    n=0                                                               #Number of particles placed in lattice\n",
    "    for i in range(K):\n",
    "        for j in range(K):\n",
    "            for k in range(K):\n",
    "                for l in range(4):\n",
    "                    if n<N:\n",
    "                        r[n,0] = unit_cell[l,0]+i*a\n",
    "                        r[n,1] = unit_cell[l,1]+j*a\n",
    "                        r[n,2] = unit_cell[l,2]+k*a\n",
    "                        n += 1\n",
    "    return r"
   ]
  },
  {
   "cell_type": "markdown",
   "metadata": {},
   "source": [
    "The momenta according to a Maxwell-Boltzmann distribution, keeping in mind that the particles can have negative velocities along the x-, y-, and z-direction. Subsequently the drift of the center of mass of the particles is shifted to zero and v is scaled to  force the desired temperature upon the gas. We define a function to do so."
   ]
  },
  {
   "cell_type": "code",
   "execution_count": 3,
   "metadata": {
    "collapsed": true
   },
   "outputs": [],
   "source": [
    "@jit\n",
    "def initMomentum(p,N,T):\n",
    "    \n",
    "    #Set the variance of the Gaussian distribution to k*T/m\n",
    "    sigma = np.sqrt(kb*T*m)\n",
    "    mu = 0\n",
    "    \n",
    "    #Assign momentum components to all particles\n",
    "    for n in range(N):\n",
    "        p[n,0] = np.random.normal(mu,sigma,1)\n",
    "        p[n,1] = np.random.normal(mu,sigma,1)\n",
    "        p[n,2] = np.random.normal(mu,sigma,1)\n",
    "            \n",
    "    #Correct for drift of center of mass\n",
    "    vCM = sum(p)/(N*m)                                         #Velocity of center of mass\n",
    "    p[:,:] -= -vCM*m\n",
    "    \n",
    "    return p"
   ]
  },
  {
   "cell_type": "markdown",
   "metadata": {},
   "source": [
    "## Functions for Simulation"
   ]
  },
  {
   "cell_type": "markdown",
   "metadata": {},
   "source": [
    "We start by defining a function to compute the forces on all particles. To do this we use Lennard-Jones potential for interaction and periodic boundary conditions. The boundary conditions require us to use the minimum image convention."
   ]
  },
  {
   "cell_type": "code",
   "execution_count": 4,
   "metadata": {
    "collapsed": false
   },
   "outputs": [],
   "source": [
    "@jit\n",
    "def computeForces(r,N,sigma,epsilon):\n",
    "    L = K * a\n",
    "    f = np.zeros((N,3))\n",
    "    \n",
    "    #Compute the distance between all particles\n",
    "    for i in range(N-1):\n",
    "        for j in range((i+1),N):\n",
    "            rij = np.zeros(3)\n",
    "            rij[0] = r[i,0]-r[j,0]\n",
    "            rij[1] = r[i,1]-r[j,1]\n",
    "            rij[2] = r[i,2]-r[j,2]\n",
    "            \n",
    "            #Apply minimum image convention\n",
    "            if rij[0] > 0.5*L:\n",
    "                if rij[0] > 0:\n",
    "                    rij[0] -= L\n",
    "                else:\n",
    "                    rij[0] += L\n",
    "                    \n",
    "            if rij[1] > 0.5*L:\n",
    "                if rij[1] > 0:\n",
    "                    rij[1] -= L\n",
    "                else:\n",
    "                    rij[1] += L\n",
    "                    \n",
    "            if rij[2] > 0.5*L:\n",
    "                if rij[2] > 0:\n",
    "                    rij[2] -= L\n",
    "                else:\n",
    "                    rij[2] += L\n",
    "              \n",
    "            #Calculating the force of pair ij\n",
    "            rabs = 0\n",
    "            rabs = (rij[0] ** 2 + rij[1] ** 2 + rij[2] ** 2)          #Absolute distance between pairs\n",
    "            famp = 24*(epsilon/sigma)*(2*(sigma/rabs)**7 -(sigma/rabs)**4)\n",
    "            \n",
    "            f[i,0] += rij[0]*famp\n",
    "            f[j,0] -= rij[0]*famp\n",
    "            \n",
    "            f[i,1] += rij[1]*famp\n",
    "            f[j,1] -= rij[1]*famp\n",
    "            \n",
    "            f[i,2] += rij[2]*famp\n",
    "            f[j,2] -= rij[2]*famp\n",
    "                \n",
    "    return f   "
   ]
  },
  {
   "cell_type": "code",
   "execution_count": 5,
   "metadata": {
    "collapsed": true
   },
   "outputs": [],
   "source": [
    "@jit\n",
    "def computePotential(r,N,sigma,epsilon):\n",
    "    L = K * a\n",
    "    potential = np.zeros(N)\n",
    "    \n",
    "    #Compute the distance between all particles\n",
    "    for i in range(N-1):\n",
    "        for j in range((i+1),N):\n",
    "            rij = np.zeros(3)\n",
    "            \n",
    "            rij[0] = r[i,0]-r[j,0]\n",
    "            rij[1] = r[i,1]-r[j,1]\n",
    "            rij[2] = r[i,2]-r[j,2]\n",
    "            \n",
    "            #Apply minimum image convention\n",
    "            if rij[0] > 0.5*L:\n",
    "                if rij[0] > 0:\n",
    "                    rij[0] -= L\n",
    "                else:\n",
    "                    rij[0] += L\n",
    "                    \n",
    "            if rij[1] > 0.5*L:\n",
    "                if rij[1] > 0:\n",
    "                    rij[1] -= L\n",
    "                else:\n",
    "                    rij[1] += L\n",
    "                    \n",
    "            if rij[2] > 0.5*L:\n",
    "                if rij[2] > 0:\n",
    "                    rij[2] -= L\n",
    "                else:\n",
    "                    rij[2] += L\n",
    "                        \n",
    "            #Calculating the potential energy of each particle\n",
    "            rabs = 0\n",
    "            rabs = (rij[0] ** 2 + rij[1] ** 2 + rij[2] ** 2) ** (1/2)           #Absolute distance between pairs\n",
    "            potential[i] += epsilon*((sigma/rabs)**12 -2*(sigma/rabs)**6)\n",
    "            potential[j] += epsilon*((sigma/rabs)**12 -2*(sigma/rabs)**6)\n",
    "                \n",
    "    return potential  "
   ]
  },
  {
   "cell_type": "markdown",
   "metadata": {},
   "source": [
    "We define a function which executes the Verlet algorithm to find the new position r and momentum p of each particle at a later time t+h."
   ]
  },
  {
   "cell_type": "code",
   "execution_count": 6,
   "metadata": {
    "collapsed": false
   },
   "outputs": [],
   "source": [
    "@jit\n",
    "def computeTimeStep(r,p,N):\n",
    "    L = K * a\n",
    "    \n",
    "    f = computeForces(r,N,sigma,epsilon)\n",
    "    \n",
    "    #Now we use the first equation to find the new r\n",
    "    for i in range(N):\n",
    "        p[i,0] += (1/2)*f[i,0]*h\n",
    "        p[i,1] += (1/2)*f[i,1]*h\n",
    "        p[i,2] += (1/2)*f[i,2]*h\n",
    "        \n",
    "        r[i,0] += (p[i,0]/m)*h\n",
    "        \n",
    "        if r[i,0] >= L:\n",
    "            r[i,0] -= L\n",
    "        elif r[i,0] < 0:\n",
    "            r[i,0] += L\n",
    "            \n",
    "        r[i,1] += (p[i,1]/m)*h    \n",
    "        \n",
    "        if r[i,1] >= L:\n",
    "            r[i,1] -= L\n",
    "        elif r[i,1] < 0:\n",
    "            r[i,1] += L\n",
    "            \n",
    "        r[i,2] += (p[i,2]/m)*h   \n",
    "        \n",
    "        if r[i,2] >= L:\n",
    "            r[i,2] -= L\n",
    "        elif r[i,2] < 0:\n",
    "            r[i,2] += L\n",
    "                   \n",
    "        #Compute first part of new momentum\n",
    "            \n",
    "    \n",
    "    #Update the forces to the new positions\n",
    "    f = computeForces(r,N,sigma,epsilon)\n",
    "    \n",
    "    #Compute the second part of the new momentum\n",
    "    for i in range(N):\n",
    "            p[i,0] += (1/2)*f[i,0]*h\n",
    "            p[i,1] += (1/2)*f[i,1]*h\n",
    "            p[i,2] += (1/2)*f[i,2]*h\n",
    "    \n",
    "    return r,p"
   ]
  },
  {
   "cell_type": "markdown",
   "metadata": {
    "collapsed": false
   },
   "source": [
    "## Running and plotting Simulation"
   ]
  },
  {
   "cell_type": "markdown",
   "metadata": {},
   "source": [
    "In this part we use the functions defined above to run the simulation for N particles for a certain number of timesteps. "
   ]
  },
  {
   "cell_type": "markdown",
   "metadata": {},
   "source": [
    "<h3>Initialization</h3>"
   ]
  },
  {
   "cell_type": "code",
   "execution_count": 10,
   "metadata": {
    "collapsed": false
   },
   "outputs": [],
   "source": [
    "#See page 186 of Computational Physics\n",
    "\n",
    "#Standard Units:\n",
    "m = 1                               #Mass of Argon atom is unitary\n",
    "sigma = 1                           #Potential minimum is unit of length\n",
    "epsilon = 1                         #Unit of energy\n",
    "tau = (m*(sigma**2)/epsilon)**(1/2) #Tau is unit of time\n",
    "\n",
    "# epsilon/kb = 119.8 K and sigma = 3.822 A for Argon\n",
    "kb = 1\n",
    "\n",
    "N = 108                           #Number of particles\n",
    "T = 1.0                           #Temperature of gas ~ 119.8 K\n",
    "rmin = sigma*2**(2/3)\n",
    "a = 1.2*rmin                     #Size unit cell\n",
    "\n",
    "K = 1                             #Number of unit cell in one direction\n",
    "while (4 * (K ** 3)) < N:\n",
    "    K += 1\n",
    "\n",
    "h = (4e-3)*tau          #Size of timestep\n",
    "steps = 1000            #Number of timesteps\n",
    "\n",
    "p = np.zeros((N,3))     #Momenta of particles\n",
    "r = np.zeros((N,3))     #Positions of particles\n",
    "f = np.zeros((N,3))     #Forces on particles\n",
    "potential = np.zeros(N) #Potential energy of particles\n",
    "\n",
    "r = initPositions(r,N,a);\n",
    "p = initMomentum(p,N,T);"
   ]
  },
  {
   "cell_type": "markdown",
   "metadata": {},
   "source": [
    "<h3>Simulate</h3>"
   ]
  },
  {
   "cell_type": "markdown",
   "metadata": {},
   "source": [
    "Simulate to find r and p after a time $t = h * \\text(steps)$."
   ]
  },
  {
   "cell_type": "code",
   "execution_count": 11,
   "metadata": {
    "collapsed": false,
    "scrolled": true
   },
   "outputs": [
    {
     "data": {
      "image/png": "[encoded data removed]",
      "text/plain": [
       "<matplotlib.figure.Figure at 0x9756710>"
      ]
     },
     "metadata": {},
     "output_type": "display_data"
    }
   ],
   "source": [
    "t = 0\n",
    "E = np.zeros(steps)\n",
    "Ep = np.zeros(steps)\n",
    "Ek = np.zeros(steps)\n",
    "totalF = np.zeros(steps)\n",
    "while t<steps:\n",
    "    output = computeTimeStep(r,p,N)\n",
    "    r = output[0]\n",
    "    p = output[1]\n",
    "    potential = computePotential(r,N,sigma,epsilon)\n",
    "    f = computeForces(r,N,sigma,epsilon)\n",
    "        \n",
    "    for n in range(N):\n",
    "        Ek[t] += (1/2)*(1/m) * (p[n,0]**2 + p[n,1]**2 + p[n,2]**2)\n",
    "        Ep[t] += potential[n]\n",
    "        totalF[t] += (f[n,0]**2 + f[n,1]**2 + f[n,2]**2) * 1e-5\n",
    "    E[t] = Ep[t] + Ek[t]   \n",
    "    t += 1\n",
    "    \n",
    "plt.figure()\n",
    "plt.plot(range(steps),E, label='E tot')\n",
    "plt.plot(range(steps),Ep, label='E pot')\n",
    "plt.plot(range(steps),Ek, label='E kin')\n",
    "plt.plot(range(steps),totalF, label='Force')\n",
    "plt.legend(loc='upper right')\n",
    "plt.show()"
   ]
  },
  {
   "cell_type": "code",
   "execution_count": null,
   "metadata": {
    "collapsed": false,
    "scrolled": false
   },
   "outputs": [],
   "source": []
  },
  {
   "cell_type": "code",
   "execution_count": null,
   "metadata": {
    "collapsed": false
   },
   "outputs": [],
   "source": []
  },
  {
   "cell_type": "code",
   "execution_count": null,
   "metadata": {
    "collapsed": true
   },
   "outputs": [],
   "source": []
  }
 ],
 "metadata": {
  "kernelspec": {
   "display_name": "Python 3",
   "language": "python",
   "name": "python3"
  },
  "language_info": {
   "codemirror_mode": {
    "name": "ipython",
    "version": 3
   },
   "file_extension": ".py",
   "mimetype": "text/x-python",
   "name": "python",
   "nbconvert_exporter": "python",
   "pygments_lexer": "ipython3",
   "version": "3.5.1"
  }
 },
 "nbformat": 4,
 "nbformat_minor": 0
}
